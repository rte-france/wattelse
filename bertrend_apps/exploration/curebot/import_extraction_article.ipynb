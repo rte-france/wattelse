{
 "cells": [
  {
   "metadata": {},
   "cell_type": "markdown",
   "source": "Import articles extracted from Curebot tool",
   "id": "3c7e4968da937628"
  },
  {
   "metadata": {},
   "cell_type": "code",
   "source": [
    "from pathlib import Path\n",
    "import pandas as pd\n",
    "from bertrend_apps.data_provider.curebot_provider import CurebotProvider\n",
    "from loguru import logger\n",
    "from typing import Dict, List, Optional\n",
    "import dateparser\n"
   ],
   "id": "4a4893bf8790823b",
   "outputs": [],
   "execution_count": null
  },
  {
   "metadata": {},
   "cell_type": "code",
   "source": "file_path = Path(\"/home/jerome/shared/synthèses veille énergie/Extraction article VA Energie mars-avril 24 pour IA.xlsx\")\n",
   "id": "4f83820d787a541a",
   "outputs": [],
   "execution_count": null
  },
  {
   "metadata": {},
   "cell_type": "code",
   "source": [
    "# Extract full text from resources\n",
    "provider = CurebotProvider(file_path)"
   ],
   "id": "4d3eda06ea551b8f",
   "outputs": [],
   "execution_count": null
  },
  {
   "metadata": {},
   "cell_type": "code",
   "source": "articles = provider.get_articles()",
   "id": "2609aa269898c1d5",
   "outputs": [],
   "execution_count": null
  },
  {
   "metadata": {},
   "cell_type": "code",
   "source": [
    "len(articles)\n",
    "\n"
   ],
   "id": "35d63ab115d45ca0",
   "outputs": [],
   "execution_count": null
  },
  {
   "metadata": {},
   "cell_type": "code",
   "source": "print(articles[0]['text'])",
   "id": "9368a9ec655007cf",
   "outputs": [],
   "execution_count": null
  },
  {
   "metadata": {},
   "cell_type": "code",
   "source": "output_file = '/home/jerome/shared/curebot_articles.jsonl'",
   "id": "cd1e15ca55c99788",
   "outputs": [],
   "execution_count": null
  },
  {
   "metadata": {},
   "cell_type": "code",
   "source": "provider.store_articles(articles, output_file)",
   "id": "ca0e88d25f0d84c3",
   "outputs": [],
   "execution_count": null
  }
 ],
 "metadata": {
  "kernelspec": {
   "display_name": "Python 3",
   "language": "python",
   "name": "python3"
  },
  "language_info": {
   "codemirror_mode": {
    "name": "ipython",
    "version": 2
   },
   "file_extension": ".py",
   "mimetype": "text/x-python",
   "name": "python",
   "nbconvert_exporter": "python",
   "pygments_lexer": "ipython2",
   "version": "2.7.6"
  }
 },
 "nbformat": 4,
 "nbformat_minor": 5
}
