{
 "cells": [
  {
   "cell_type": "markdown",
   "metadata": {},
   "source": [
    "# How to use the WattElse APIs from a third-party application ?\n",
    "\n",
    "This notebook illustrate how to use the WattElse API.\n",
    "\n",
    "The APIs have been developed using FastAPI. A documentation is available here: https://10.132.6.55:1978/docs"
   ]
  },
  {
   "metadata": {},
   "cell_type": "markdown",
   "source": [
    "## Background: API authentication and security\n",
    "\n",
    "For security reasons, the access to the APIs is secured based on different methods:\n",
    "- https protocol\n",
    "- use of authentication token\n",
    "- access restricted to some groups for some API operations\n",
    "\n",
    "Before to connect a new third-party application, you must apply for credentials.\n",
    "The administrators will provide you an application secret that will be used to generate the authentication token.\n",
    "Keep it securely!\n",
    "\n",
    "In this example, we will use the following credentials:\n",
    "\n",
    "\n"
   ]
  },
  {
   "cell_type": "code",
   "metadata": {},
   "source": [
    "import os\n",
    "\n",
    "client_id = \"opfab\"\n",
    "client_secret = os.getenv(\"OPFAB_CLIENT_SECRET\")\n",
    "print(client_secret)"
   ],
   "outputs": [],
   "execution_count": null
  },
  {
   "metadata": {},
   "cell_type": "markdown",
   "source": "## Test of the RAG API"
  },
  {
   "metadata": {},
   "cell_type": "code",
   "source": [
    "import json\n",
    "import requests\n",
    "\n",
    "WATTELSE_API_URL = \"https://10.132.6.55:1978\"\n",
    "TEST_GROUP_NAME = \"OPFAB\""
   ],
   "outputs": [],
   "execution_count": null
  },
  {
   "cell_type": "code",
   "metadata": {},
   "source": [
    "# Authentication\n",
    "response = requests.post(\n",
    "        WATTELSE_API_URL + \"/token\",\n",
    "        data={\n",
    "            \"username\": client_id,  # Send client_id as username\n",
    "            \"password\": client_secret,  # Send client_secret as password\n",
    "        },\n",
    "        verify=False,\n",
    "    )\n",
    "\n",
    "if response.status_code == 200:\n",
    "        token_data = response.json()\n",
    "        token = token_data[\"access_token\"]\n",
    "else:\n",
    "  raise Exception(f\"Failed to obtain token: {response.status_code} {response.text}\")\n",
    "\n",
    "headers = {\"Authorization\": f\"Bearer {token}\"}\n"
   ],
   "outputs": [],
   "execution_count": null
  },
  {
   "metadata": {},
   "cell_type": "code",
   "source": [
    "# Check if the service is running\n",
    "response = requests.get(WATTELSE_API_URL + \"/health\", verify=False)\n",
    "print(response.json())"
   ],
   "outputs": [],
   "execution_count": null
  },
  {
   "cell_type": "code",
   "metadata": {},
   "source": [
    "# List current sessions (1 session = 1 WattElse group = 1 document collection)\n",
    "response = requests.get(WATTELSE_API_URL + \"/current-sessions\", verify=False)\n",
    "print(response.json())"
   ],
   "outputs": [],
   "execution_count": null
  },
  {
   "cell_type": "code",
   "metadata": {},
   "source": [
    "# Create a new session\n",
    "response = requests.post(WATTELSE_API_URL + \"/create-session/\" + TEST_GROUP_NAME, verify=False, headers=headers)\n",
    "print(response.json())"
   ],
   "outputs": [],
   "execution_count": null
  },
  {
   "cell_type": "code",
   "metadata": {},
   "source": [
    "# Check the session was created\n",
    "response = requests.get(WATTELSE_API_URL + \"/current-sessions\", verify=False, headers=headers)\n",
    "print(response.json())"
   ],
   "outputs": [],
   "execution_count": null
  },
  {
   "cell_type": "code",
   "metadata": {},
   "source": [
    "# List available docs for the session\n",
    "response = requests.get(WATTELSE_API_URL + \"/list-available-docs/\" + TEST_GROUP_NAME, verify=False, headers=headers)\n",
    "print(response.json())"
   ],
   "outputs": [],
   "execution_count": null
  },
  {
   "cell_type": "code",
   "metadata": {},
   "source": [
    "# Upload documents\n",
    "file_paths = [\"NMT - Accord télétravail.pdf\",]\n",
    "files = [(\"files\", open(p, \"rb\")) for p in file_paths]\n",
    "\n",
    "response = requests.post(\n",
    "    WATTELSE_API_URL + \"/upload-docs/\" + TEST_GROUP_NAME,\n",
    "\tfiles=files, verify=False, headers=headers\n",
    ")\n",
    "print(response.json())"
   ],
   "outputs": [],
   "execution_count": null
  },
  {
   "cell_type": "code",
   "metadata": {},
   "source": [
    "# Check documents were added\n",
    "response = requests.get(WATTELSE_API_URL + \"/list-available-docs/\" + TEST_GROUP_NAME, verify=False, headers=headers)\n",
    "print(response.json())"
   ],
   "outputs": [],
   "execution_count": null
  },
  {
   "cell_type": "code",
   "metadata": {},
   "source": [
    "# Query RAG\n",
    "query = \"Est-ce que je peux télétravailler à l'étranger ?\"\n",
    "response = requests.get(\n",
    "            url=WATTELSE_API_URL + \"/query-rag\",\n",
    "            data=json.dumps(\n",
    "                {\n",
    "                    \"group_id\": TEST_GROUP_NAME,\n",
    "                    \"message\": query,\n",
    "                    \"history\": None,\n",
    "                    \"group_system_prompt\": None,\n",
    "                    \"selected_files\": None,\n",
    "                    \"stream\": False,\n",
    "                }\n",
    "            ),\n",
    "            verify=False,\n",
    "            headers=headers\n",
    ")\n",
    "print(response.json())"
   ],
   "outputs": [],
   "execution_count": null
  },
  {
   "cell_type": "code",
   "metadata": {},
   "source": [
    "# Remove documents\n",
    "response = requests.post(\n",
    "            url=WATTELSE_API_URL + \"/remove-docs/\" + TEST_GROUP_NAME,\n",
    "            data=json.dumps(file_paths), verify=False, headers=headers\n",
    "        )\n",
    "response.json()"
   ],
   "outputs": [],
   "execution_count": null
  },
  {
   "cell_type": "code",
   "metadata": {},
   "source": [
    "# Clean sessions\n",
    "response = requests.post(WATTELSE_API_URL + \"/clean_sessions/\" + TEST_GROUP_NAME, verify=False, headers=headers)\n",
    "response.json()"
   ],
   "outputs": [],
   "execution_count": null
  },
  {
   "cell_type": "code",
   "metadata": {},
   "source": [],
   "outputs": [],
   "execution_count": null
  },
  {
   "metadata": {},
   "cell_type": "code",
   "source": "",
   "outputs": [],
   "execution_count": null
  },
  {
   "metadata": {},
   "cell_type": "code",
   "source": "",
   "outputs": [],
   "execution_count": null
  }
 ],
 "metadata": {
  "kernelspec": {
   "display_name": "base",
   "language": "python",
   "name": "python3"
  },
  "language_info": {
   "codemirror_mode": {
    "name": "ipython",
    "version": 3
   },
   "file_extension": ".py",
   "mimetype": "text/x-python",
   "name": "python",
   "nbconvert_exporter": "python",
   "pygments_lexer": "ipython3",
   "version": "3.12.3"
  }
 },
 "nbformat": 4,
 "nbformat_minor": 2
}
