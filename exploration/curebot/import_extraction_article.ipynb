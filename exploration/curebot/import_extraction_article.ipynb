{
 "cells": [
  {
   "metadata": {},
   "cell_type": "markdown",
   "source": "Import articles extracted from Curebot tool",
   "id": "3c7e4968da937628"
  },
  {
   "metadata": {
    "ExecuteTime": {
     "end_time": "2024-05-21T19:44:50.770156Z",
     "start_time": "2024-05-21T19:44:49.889756Z"
    }
   },
   "cell_type": "code",
   "source": [
    "from pathlib import Path\n",
    "import pandas as pd\n",
    "from wattelse.data_provider.curebot_provider import CurebotProvider\n",
    "from loguru import logger\n",
    "from typing import Dict, List, Optional\n",
    "import dateparser\n"
   ],
   "id": "4a4893bf8790823b",
   "outputs": [],
   "execution_count": 8
  },
  {
   "metadata": {
    "ExecuteTime": {
     "end_time": "2024-05-21T19:44:50.774727Z",
     "start_time": "2024-05-21T19:44:50.771529Z"
    }
   },
   "cell_type": "code",
   "source": "file_path = Path(\"/home/jerome/shared/synthèses veille énergie/Extraction article VA Energie mars-avril 24 pour IA.xlsx\")\n",
   "id": "4f83820d787a541a",
   "outputs": [],
   "execution_count": 9
  },
  {
   "metadata": {
    "ExecuteTime": {
     "end_time": "2024-05-21T19:44:51.265879Z",
     "start_time": "2024-05-21T19:44:51.137725Z"
    }
   },
   "cell_type": "code",
   "source": [
    "# Extract full text from resources\n",
    "provider = CurebotProvider(file_path)"
   ],
   "id": "4d3eda06ea551b8f",
   "outputs": [],
   "execution_count": 10
  },
  {
   "metadata": {
    "ExecuteTime": {
     "end_time": "2024-05-21T19:45:49.230253Z",
     "start_time": "2024-05-21T19:44:53.416613Z"
    }
   },
   "cell_type": "code",
   "source": "articles = provider.get_articles()",
   "id": "2609aa269898c1d5",
   "outputs": [
    {
     "name": "stderr",
     "output_type": "stream",
     "text": [
      "\u001B[32m2024-05-21 21:44:53.478\u001B[0m | \u001B[34m\u001B[1mDEBUG   \u001B[0m | \u001B[36mwattelse.data_provider.data_provider\u001B[0m:\u001B[36m_get_text\u001B[0m:\u001B[36m116\u001B[0m - \u001B[34m\u001B[1mExtracting text from https://actu.fr/societe/debat-inedit-sur-la-mer-5-000-personnes-rencontrees-sur-la-facade-normandie-hauts-de-france_60982116.html\u001B[0m\n",
      "\u001B[32m2024-05-21 21:44:53.962\u001B[0m | \u001B[34m\u001B[1mDEBUG   \u001B[0m | \u001B[36mwattelse.data_provider.curebot_provider\u001B[0m:\u001B[36m_parse_entry\u001B[0m:\u001B[36m43\u001B[0m - \u001B[34m\u001B[1m----- Title: Débat inédit sur la mer : « 5 000 personnes rencontrées sur la façade Normandie Hauts-de-France,\tDate: 2024-04-23 10:15:33\u001B[0m\n",
      "\u001B[32m2024-05-21 21:44:53.966\u001B[0m | \u001B[34m\u001B[1mDEBUG   \u001B[0m | \u001B[36mwattelse.data_provider.data_provider\u001B[0m:\u001B[36m_get_text\u001B[0m:\u001B[36m116\u001B[0m - \u001B[34m\u001B[1mExtracting text from https://www.usinenouvelle.com/article/pas-de-loi-mais-un-debat-public-le-refus-d-obstacle-du-gouvernement-sur-la-politique-energie-climat.N2211465\u001B[0m\n",
      "\u001B[32m2024-05-21 21:44:54.426\u001B[0m | \u001B[34m\u001B[1mDEBUG   \u001B[0m | \u001B[36mwattelse.data_provider.curebot_provider\u001B[0m:\u001B[36m_parse_entry\u001B[0m:\u001B[36m43\u001B[0m - \u001B[34m\u001B[1m----- Title: Pas de loi mais un débat public : le refus d'obstacle du gouvernement sur la politique énergie-climat,\tDate: 2024-04-15 08:07:40\u001B[0m\n",
      "\u001B[32m2024-05-21 21:44:54.429\u001B[0m | \u001B[34m\u001B[1mDEBUG   \u001B[0m | \u001B[36mwattelse.data_provider.data_provider\u001B[0m:\u001B[36m_get_text\u001B[0m:\u001B[36m116\u001B[0m - \u001B[34m\u001B[1mExtracting text from https://www.lefigaro.fr/economie/roland-lescure-nous-construisons-les-infrastructures-energetiques-des-cinquante-prochaines-annees-20240410\u001B[0m\n",
      "\u001B[32m2024-05-21 21:44:55.042\u001B[0m | \u001B[34m\u001B[1mDEBUG   \u001B[0m | \u001B[36mwattelse.data_provider.curebot_provider\u001B[0m:\u001B[36m_parse_entry\u001B[0m:\u001B[36m43\u001B[0m - \u001B[34m\u001B[1m----- Title: Roland Lescure: «Nous construisons les infrastructures énergétiques des cinquante prochaines années»,\tDate: 2024-04-10 20:14:46\u001B[0m\n",
      "\u001B[32m2024-05-21 21:44:55.045\u001B[0m | \u001B[34m\u001B[1mDEBUG   \u001B[0m | \u001B[36mwattelse.data_provider.data_provider\u001B[0m:\u001B[36m_get_text\u001B[0m:\u001B[36m116\u001B[0m - \u001B[34m\u001B[1mExtracting text from https://www.connaissancedesenergies.org/afp/la-france-lance-un-plan-de-bataille-pour-essayer-de-rattraper-son-retard-sur-le-solaire-240405\u001B[0m\n",
      "Publish date 05 avr. 2024 - 20:53 could not be resolved to UTC\n",
      "\u001B[32m2024-05-21 21:44:56.059\u001B[0m | \u001B[34m\u001B[1mDEBUG   \u001B[0m | \u001B[36mwattelse.data_provider.curebot_provider\u001B[0m:\u001B[36m_parse_entry\u001B[0m:\u001B[36m43\u001B[0m - \u001B[34m\u001B[1m----- Title: La France lance un \"plan de bataille\" pour essayer de rattraper son retard sur le solaire,\tDate: 2024-04-05 19:04:58\u001B[0m\n",
      "\u001B[32m2024-05-21 21:44:56.062\u001B[0m | \u001B[34m\u001B[1mDEBUG   \u001B[0m | \u001B[36mwattelse.data_provider.data_provider\u001B[0m:\u001B[36m_get_text\u001B[0m:\u001B[36m116\u001B[0m - \u001B[34m\u001B[1mExtracting text from https://www.lemonde.fr/planete/article/2024/04/03/edf-le-parlement-adopte-un-texte-protegeant-l-entreprise-d-un-demembrement-et-etendant-les-tarifs-reglementes-aux-tres-petites-entreprises_6225852_3244.html\u001B[0m\n",
      "\u001B[32m2024-05-21 21:44:56.426\u001B[0m | \u001B[34m\u001B[1mDEBUG   \u001B[0m | \u001B[36mwattelse.data_provider.curebot_provider\u001B[0m:\u001B[36m_parse_entry\u001B[0m:\u001B[36m43\u001B[0m - \u001B[34m\u001B[1m----- Title: EDF : un texte protégeant l’entreprise d’un « démembrement » voté par le Parlement,\tDate: 2024-04-03 20:39:59\u001B[0m\n",
      "\u001B[32m2024-05-21 21:44:56.428\u001B[0m | \u001B[34m\u001B[1mDEBUG   \u001B[0m | \u001B[36mwattelse.data_provider.data_provider\u001B[0m:\u001B[36m_get_text\u001B[0m:\u001B[36m116\u001B[0m - \u001B[34m\u001B[1mExtracting text from https://www.capital.fr/votre-argent/electricite-les-panneaux-solaires-nouveau-levier-des-francais-pour-faire-des-economies-1494581\u001B[0m\n",
      "\u001B[32m2024-05-21 21:44:57.706\u001B[0m | \u001B[34m\u001B[1mDEBUG   \u001B[0m | \u001B[36mwattelse.data_provider.curebot_provider\u001B[0m:\u001B[36m_parse_entry\u001B[0m:\u001B[36m43\u001B[0m - \u001B[34m\u001B[1m----- Title: Electricité : les panneaux solaires, nouveau levier des Français pour faire des économies,\tDate: 2024-03-29 17:08:36\u001B[0m\n",
      "\u001B[32m2024-05-21 21:44:57.709\u001B[0m | \u001B[34m\u001B[1mDEBUG   \u001B[0m | \u001B[36mwattelse.data_provider.data_provider\u001B[0m:\u001B[36m_get_text\u001B[0m:\u001B[36m116\u001B[0m - \u001B[34m\u001B[1mExtracting text from https://www.leparisien.fr/economie/nucleaire-letat-etudie-la-construction-en-france-dune-usine-de-conversion-de-luranium-retraite-29-03-2024-ZCIF7ISMEBF3TAH4AIWHYVVXR4.php\u001B[0m\n",
      "\u001B[32m2024-05-21 21:45:07.986\u001B[0m | \u001B[34m\u001B[1mDEBUG   \u001B[0m | \u001B[36mwattelse.data_provider.curebot_provider\u001B[0m:\u001B[36m_parse_entry\u001B[0m:\u001B[36m43\u001B[0m - \u001B[34m\u001B[1m----- Title: Nucléaire : l’État étudie la construction « en France » d’une usine de conversion de l’uranium retraité,\tDate: 2024-03-29 11:24:16\u001B[0m\n",
      "\u001B[32m2024-05-21 21:45:07.988\u001B[0m | \u001B[34m\u001B[1mDEBUG   \u001B[0m | \u001B[36mwattelse.data_provider.data_provider\u001B[0m:\u001B[36m_get_text\u001B[0m:\u001B[36m116\u001B[0m - \u001B[34m\u001B[1mExtracting text from https://www.lopinion.fr/economie/nucleaire-la-course-de-fond-des-fabricants-francais-de-mini-reacteurs\u001B[0m\n",
      "\u001B[32m2024-05-21 21:45:09.104\u001B[0m | \u001B[34m\u001B[1mDEBUG   \u001B[0m | \u001B[36mwattelse.data_provider.curebot_provider\u001B[0m:\u001B[36m_parse_entry\u001B[0m:\u001B[36m43\u001B[0m - \u001B[34m\u001B[1m----- Title: Nucléaire: la course de fond des fabricants de mini-réacteurs en France,\tDate: 2024-03-24 11:42:17\u001B[0m\n",
      "\u001B[32m2024-05-21 21:45:09.106\u001B[0m | \u001B[34m\u001B[1mDEBUG   \u001B[0m | \u001B[36mwattelse.data_provider.data_provider\u001B[0m:\u001B[36m_get_text\u001B[0m:\u001B[36m116\u001B[0m - \u001B[34m\u001B[1mExtracting text from https://www.lemonde.fr/planete/article/2024/03/23/sur-la-programmation-energie-climat-une-nouvelle-concertation-sans-horizon_6223750_3244.html\u001B[0m\n",
      "\u001B[32m2024-05-21 21:45:09.333\u001B[0m | \u001B[34m\u001B[1mDEBUG   \u001B[0m | \u001B[36mwattelse.data_provider.curebot_provider\u001B[0m:\u001B[36m_parse_entry\u001B[0m:\u001B[36m43\u001B[0m - \u001B[34m\u001B[1m----- Title: Sur la programmation énergie-climat, une nouvelle concertation sans horizon,\tDate: 2024-03-23 10:03:12\u001B[0m\n",
      "\u001B[32m2024-05-21 21:45:09.335\u001B[0m | \u001B[34m\u001B[1mDEBUG   \u001B[0m | \u001B[36mwattelse.data_provider.data_provider\u001B[0m:\u001B[36m_get_text\u001B[0m:\u001B[36m116\u001B[0m - \u001B[34m\u001B[1mExtracting text from https://www.linfodurable.fr/environnement/nucleaire-precieux-pour-bruno-le-maire-hors-sol-pour-les-ong-44191\u001B[0m\n",
      "\u001B[32m2024-05-21 21:45:15.810\u001B[0m | \u001B[34m\u001B[1mDEBUG   \u001B[0m | \u001B[36mwattelse.data_provider.curebot_provider\u001B[0m:\u001B[36m_parse_entry\u001B[0m:\u001B[36m43\u001B[0m - \u001B[34m\u001B[1m----- Title: Investissements dans le nucléaire: \"précieux\" pour Bruno Le Maire, \"hors sol\" pour les ONG,\tDate: 2024-03-08 10:32:50\u001B[0m\n",
      "\u001B[32m2024-05-21 21:45:15.813\u001B[0m | \u001B[34m\u001B[1mDEBUG   \u001B[0m | \u001B[36mwattelse.data_provider.data_provider\u001B[0m:\u001B[36m_get_text\u001B[0m:\u001B[36m116\u001B[0m - \u001B[34m\u001B[1mExtracting text from https://www.lexpress.fr/environnement/nucleaire-le-gouvernement-annonce-le-prolongement-de-lusine-de-retraitement-de-la-hague-DOUTPWWJDZGQXACQY7YO3ERCA4/\u001B[0m\n",
      "\u001B[32m2024-05-21 21:45:16.857\u001B[0m | \u001B[34m\u001B[1mDEBUG   \u001B[0m | \u001B[36mwattelse.data_provider.curebot_provider\u001B[0m:\u001B[36m_parse_entry\u001B[0m:\u001B[36m43\u001B[0m - \u001B[34m\u001B[1m----- Title: Nucléaire : le gouvernement annonce le prolongement de l’usine de retraitement de La Hague,\tDate: 2024-03-07 15:19:48\u001B[0m\n",
      "\u001B[32m2024-05-21 21:45:16.859\u001B[0m | \u001B[34m\u001B[1mDEBUG   \u001B[0m | \u001B[36mwattelse.data_provider.data_provider\u001B[0m:\u001B[36m_get_text\u001B[0m:\u001B[36m116\u001B[0m - \u001B[34m\u001B[1mExtracting text from https://www.alternatives-economiques.fr/allemagne-bashing-antiecolo-zenith/00110301\u001B[0m\n",
      "\u001B[32m2024-05-21 21:45:17.326\u001B[0m | \u001B[34m\u001B[1mDEBUG   \u001B[0m | \u001B[36mwattelse.data_provider.curebot_provider\u001B[0m:\u001B[36m_parse_entry\u001B[0m:\u001B[36m43\u001B[0m - \u001B[34m\u001B[1m----- Title: En Allemagne, le bashing antiécolo est au zénith,\tDate: 2024-04-17 07:57:18\u001B[0m\n",
      "\u001B[32m2024-05-21 21:45:17.329\u001B[0m | \u001B[34m\u001B[1mDEBUG   \u001B[0m | \u001B[36mwattelse.data_provider.data_provider\u001B[0m:\u001B[36m_get_text\u001B[0m:\u001B[36m116\u001B[0m - \u001B[34m\u001B[1mExtracting text from https://www.lesechos.fr/industrie-services/energie-environnement/nouvel-espoir-au-japon-pour-rallumer-la-plus-grande-centrale-nucleaire-du-monde-2089073\u001B[0m\n",
      "\u001B[32m2024-05-21 21:45:17.655\u001B[0m | \u001B[34m\u001B[1mDEBUG   \u001B[0m | \u001B[36mwattelse.data_provider.curebot_provider\u001B[0m:\u001B[36m_parse_entry\u001B[0m:\u001B[36m43\u001B[0m - \u001B[34m\u001B[1m----- Title: Nouvel espoir au Japon pour rallumer la plus grande centrale nucléaire du monde,\tDate: 2024-04-16 07:23:32\u001B[0m\n",
      "\u001B[32m2024-05-21 21:45:17.658\u001B[0m | \u001B[34m\u001B[1mDEBUG   \u001B[0m | \u001B[36mwattelse.data_provider.data_provider\u001B[0m:\u001B[36m_get_text\u001B[0m:\u001B[36m116\u001B[0m - \u001B[34m\u001B[1mExtracting text from https://www.revolution-energetique.com/ces-nouvelles-centrales-au-charbon-que-le-monde-continue-dinstaller-a-tour-de-bras/\u001B[0m\n",
      "\u001B[32m2024-05-21 21:45:17.915\u001B[0m | \u001B[34m\u001B[1mDEBUG   \u001B[0m | \u001B[36mwattelse.data_provider.curebot_provider\u001B[0m:\u001B[36m_parse_entry\u001B[0m:\u001B[36m43\u001B[0m - \u001B[34m\u001B[1m----- Title: Ces nouvelles centrales au charbon que le monde continue d'installer à tour de bras,\tDate: 2024-04-15 15:51:28\u001B[0m\n",
      "\u001B[32m2024-05-21 21:45:17.918\u001B[0m | \u001B[34m\u001B[1mDEBUG   \u001B[0m | \u001B[36mwattelse.data_provider.data_provider\u001B[0m:\u001B[36m_get_text\u001B[0m:\u001B[36m116\u001B[0m - \u001B[34m\u001B[1mExtracting text from https://www.revolution-energetique.com/de-leolien-en-mer-et-du-nucleaire-la-strategie-polonaise-imparable-pour-sortir-du-charbon/\u001B[0m\n",
      "\u001B[32m2024-05-21 21:45:18.091\u001B[0m | \u001B[34m\u001B[1mDEBUG   \u001B[0m | \u001B[36mwattelse.data_provider.curebot_provider\u001B[0m:\u001B[36m_parse_entry\u001B[0m:\u001B[36m43\u001B[0m - \u001B[34m\u001B[1m----- Title: De l’éolien en mer et du nucléaire : la stratégie polonaise imparable pour sortir du charbon ?,\tDate: 2024-04-14 05:32:39\u001B[0m\n",
      "\u001B[32m2024-05-21 21:45:18.094\u001B[0m | \u001B[34m\u001B[1mDEBUG   \u001B[0m | \u001B[36mwattelse.data_provider.data_provider\u001B[0m:\u001B[36m_get_text\u001B[0m:\u001B[36m116\u001B[0m - \u001B[34m\u001B[1mExtracting text from https://fr.euronews.com/2024/04/12/energies-renouvelables-un-vent-nouveau-souffle-sur-le-secteur-eolien-en-grece\u001B[0m\n",
      "Publish date Publié le\n",
      "            12/04/2024 - 17:10 could not be resolved to UTC\n",
      "\u001B[32m2024-05-21 21:45:18.346\u001B[0m | \u001B[34m\u001B[1mDEBUG   \u001B[0m | \u001B[36mwattelse.data_provider.curebot_provider\u001B[0m:\u001B[36m_parse_entry\u001B[0m:\u001B[36m43\u001B[0m - \u001B[34m\u001B[1m----- Title: Énergies renouvelables : un vent nouveau souffle sur le secteur éolien en Grèce,\tDate: 2024-04-12 15:17:40\u001B[0m\n",
      "\u001B[32m2024-05-21 21:45:18.350\u001B[0m | \u001B[34m\u001B[1mDEBUG   \u001B[0m | \u001B[36mwattelse.data_provider.data_provider\u001B[0m:\u001B[36m_get_text\u001B[0m:\u001B[36m116\u001B[0m - \u001B[34m\u001B[1mExtracting text from https://www.revolution-energetique.com/le-pays-le-plus-peuple-du-monde-compte-sur-le-duo-nucleaire-et-renouvelables-pour-atteindre-la-neutralite-carbone/\u001B[0m\n",
      "\u001B[32m2024-05-21 21:45:18.472\u001B[0m | \u001B[34m\u001B[1mDEBUG   \u001B[0m | \u001B[36mwattelse.data_provider.curebot_provider\u001B[0m:\u001B[36m_parse_entry\u001B[0m:\u001B[36m43\u001B[0m - \u001B[34m\u001B[1m----- Title: Le pays le plus peuplé du monde compte sur le duo nucléaire et renouvelables pour atteindre la neutralité carbone,\tDate: 2024-04-10 15:06:15\u001B[0m\n",
      "\u001B[32m2024-05-21 21:45:18.551\u001B[0m | \u001B[34m\u001B[1mDEBUG   \u001B[0m | \u001B[36mwattelse.data_provider.data_provider\u001B[0m:\u001B[36m_get_text\u001B[0m:\u001B[36m116\u001B[0m - \u001B[34m\u001B[1mExtracting text from https://www.revolution-energetique.com/le-pays-le-plus-pauvre-deurope-a-t-il-vraiment-troque-son-charbon-pour-des-panneaux-solaires/\u001B[0m\n",
      "\u001B[32m2024-05-21 21:45:18.666\u001B[0m | \u001B[34m\u001B[1mDEBUG   \u001B[0m | \u001B[36mwattelse.data_provider.curebot_provider\u001B[0m:\u001B[36m_parse_entry\u001B[0m:\u001B[36m43\u001B[0m - \u001B[34m\u001B[1m----- Title: Le pays le plus pauvre d'Europe a t-il vraiment troqué son charbon pour des panneaux solaires ?,\tDate: 2024-04-09 15:18:28\u001B[0m\n",
      "\u001B[32m2024-05-21 21:45:18.676\u001B[0m | \u001B[34m\u001B[1mDEBUG   \u001B[0m | \u001B[36mwattelse.data_provider.data_provider\u001B[0m:\u001B[36m_get_text\u001B[0m:\u001B[36m116\u001B[0m - \u001B[34m\u001B[1mExtracting text from https://www.revolution-energetique.com/ses-panneaux-solaires-produisent-trop-denergie-ce-pays-deurope-est-contraint-de-les-debrancher/\u001B[0m\n",
      "\u001B[32m2024-05-21 21:45:18.827\u001B[0m | \u001B[34m\u001B[1mDEBUG   \u001B[0m | \u001B[36mwattelse.data_provider.curebot_provider\u001B[0m:\u001B[36m_parse_entry\u001B[0m:\u001B[36m43\u001B[0m - \u001B[34m\u001B[1m----- Title: Ses panneaux solaires produisent trop d’énergie : ce pays d’Europe est contraint de les débrancher,\tDate: 2024-04-05 04:38:48\u001B[0m\n",
      "\u001B[32m2024-05-21 21:45:18.831\u001B[0m | \u001B[34m\u001B[1mDEBUG   \u001B[0m | \u001B[36mwattelse.data_provider.data_provider\u001B[0m:\u001B[36m_get_text\u001B[0m:\u001B[36m116\u001B[0m - \u001B[34m\u001B[1mExtracting text from https://www.euractiv.fr/section/charbon/news/sortie-progressive-du-charbon-lallemagne-ferme-quinze-centrales/\u001B[0m\n",
      "\u001B[32m2024-05-21 21:45:19.238\u001B[0m | \u001B[34m\u001B[1mDEBUG   \u001B[0m | \u001B[36mwattelse.data_provider.curebot_provider\u001B[0m:\u001B[36m_parse_entry\u001B[0m:\u001B[36m43\u001B[0m - \u001B[34m\u001B[1m----- Title: Sortie progressive du charbon : l'Allemagne ferme quinze centrales,\tDate: 2024-04-02 05:29:20\u001B[0m\n",
      "\u001B[32m2024-05-21 21:45:19.241\u001B[0m | \u001B[34m\u001B[1mDEBUG   \u001B[0m | \u001B[36mwattelse.data_provider.data_provider\u001B[0m:\u001B[36m_get_text\u001B[0m:\u001B[36m116\u001B[0m - \u001B[34m\u001B[1mExtracting text from https://www.latribune.fr/climat/energie-environnement/l-etonnant-virage-pro-nucleaire-de-bruxelles-993569.html\u001B[0m\n",
      "Publish date 2024-03-22CET17:06:00+0100 could not be resolved to UTC\n",
      "\u001B[32m2024-05-21 21:45:20.063\u001B[0m | \u001B[34m\u001B[1mDEBUG   \u001B[0m | \u001B[36mwattelse.data_provider.curebot_provider\u001B[0m:\u001B[36m_parse_entry\u001B[0m:\u001B[36m43\u001B[0m - \u001B[34m\u001B[1m----- Title: L'étonnant virage pro-nucléaire de Bruxelles,\tDate: 2024-03-22 16:22:41\u001B[0m\n",
      "\u001B[32m2024-05-21 21:45:20.066\u001B[0m | \u001B[34m\u001B[1mDEBUG   \u001B[0m | \u001B[36mwattelse.data_provider.data_provider\u001B[0m:\u001B[36m_get_text\u001B[0m:\u001B[36m116\u001B[0m - \u001B[34m\u001B[1mExtracting text from https://www.latribune.fr/climat/energie-environnement/climat-l-allemagne-sur-la-bonne-voie-pour-atteindre-ses-objectifs-a-l-horizon-2030-993008.html\u001B[0m\n",
      "Publish date 2024-03-15CET14:16:00+0100 could not be resolved to UTC\n",
      "\u001B[32m2024-05-21 21:45:20.802\u001B[0m | \u001B[34m\u001B[1mDEBUG   \u001B[0m | \u001B[36mwattelse.data_provider.curebot_provider\u001B[0m:\u001B[36m_parse_entry\u001B[0m:\u001B[36m43\u001B[0m - \u001B[34m\u001B[1m----- Title: Climat : l'Allemagne sur la bonne voie pour atteindre ses objectifs à l'horizon 2030,\tDate: 2024-03-15 13:17:40\u001B[0m\n",
      "\u001B[32m2024-05-21 21:45:20.806\u001B[0m | \u001B[34m\u001B[1mDEBUG   \u001B[0m | \u001B[36mwattelse.data_provider.data_provider\u001B[0m:\u001B[36m_get_text\u001B[0m:\u001B[36m116\u001B[0m - \u001B[34m\u001B[1mExtracting text from https://www.latribune.fr/economie/international/le-royaume-uni-annonce-la-construction-de-nouvelles-centrales-a-gaz-les-ecologistes-voient-rouge-992734.html\u001B[0m\n",
      "Publish date 2024-03-12CET14:00:00+0100 could not be resolved to UTC\n",
      "\u001B[32m2024-05-21 21:45:21.550\u001B[0m | \u001B[34m\u001B[1mDEBUG   \u001B[0m | \u001B[36mwattelse.data_provider.curebot_provider\u001B[0m:\u001B[36m_parse_entry\u001B[0m:\u001B[36m43\u001B[0m - \u001B[34m\u001B[1m----- Title: Le Royaume-Uni annonce la construction de nouvelles centrales à gaz, les écologistes voient rouge,\tDate: 2024-03-12 13:29:25\u001B[0m\n",
      "\u001B[32m2024-05-21 21:45:21.554\u001B[0m | \u001B[34m\u001B[1mDEBUG   \u001B[0m | \u001B[36mwattelse.data_provider.data_provider\u001B[0m:\u001B[36m_get_text\u001B[0m:\u001B[36m116\u001B[0m - \u001B[34m\u001B[1mExtracting text from https://www.institutmontaigne.org/expressions/decarbonation-corriger-le-systeme-des-garanties-dorigine-electriques\u001B[0m\n",
      "\u001B[32m2024-05-21 21:45:22.085\u001B[0m | \u001B[34m\u001B[1mDEBUG   \u001B[0m | \u001B[36mwattelse.data_provider.curebot_provider\u001B[0m:\u001B[36m_parse_entry\u001B[0m:\u001B[36m43\u001B[0m - \u001B[34m\u001B[1m----- Title: Décarbonation : corriger le système des garanties d'origine électriques,\tDate: 2024-03-04 10:04:59\u001B[0m\n",
      "\u001B[32m2024-05-21 21:45:22.088\u001B[0m | \u001B[34m\u001B[1mDEBUG   \u001B[0m | \u001B[36mwattelse.data_provider.data_provider\u001B[0m:\u001B[36m_get_text\u001B[0m:\u001B[36m116\u001B[0m - \u001B[34m\u001B[1mExtracting text from https://www.revolution-energetique.com/voici-la-nouvelle-centrale-solaire-la-plus-puissante-deurope/\u001B[0m\n",
      "\u001B[32m2024-05-21 21:45:22.241\u001B[0m | \u001B[34m\u001B[1mDEBUG   \u001B[0m | \u001B[36mwattelse.data_provider.curebot_provider\u001B[0m:\u001B[36m_parse_entry\u001B[0m:\u001B[36m43\u001B[0m - \u001B[34m\u001B[1m----- Title: Voici la nouvelle centrale solaire la plus puissante d'Europe,\tDate: 2024-04-11 14:35:32\u001B[0m\n",
      "\u001B[32m2024-05-21 21:45:22.244\u001B[0m | \u001B[34m\u001B[1mDEBUG   \u001B[0m | \u001B[36mwattelse.data_provider.data_provider\u001B[0m:\u001B[36m_get_text\u001B[0m:\u001B[36m116\u001B[0m - \u001B[34m\u001B[1mExtracting text from https://www.lesechos.fr/industrie-services/energie-environnement/nucleaire-le-casting-dedf-pour-preparer-le-chantier-du-siecle-des-epr-2-2086074\u001B[0m\n",
      "\u001B[32m2024-05-21 21:45:22.437\u001B[0m | \u001B[34m\u001B[1mDEBUG   \u001B[0m | \u001B[36mwattelse.data_provider.curebot_provider\u001B[0m:\u001B[36m_parse_entry\u001B[0m:\u001B[36m43\u001B[0m - \u001B[34m\u001B[1m----- Title: Nucléaire : le casting d'EDF pour préparer le « chantier du siècle » des EPR 2,\tDate: 2024-04-01 08:25:07\u001B[0m\n",
      "\u001B[32m2024-05-21 21:45:22.440\u001B[0m | \u001B[34m\u001B[1mDEBUG   \u001B[0m | \u001B[36mwattelse.data_provider.data_provider\u001B[0m:\u001B[36m_get_text\u001B[0m:\u001B[36m116\u001B[0m - \u001B[34m\u001B[1mExtracting text from https://www.actu-environnement.com/ae/news/consultation-mise-en-service-epr-flamanville-ASN-43767.php4\u001B[0m\n",
      "\u001B[32m2024-05-21 21:45:22.706\u001B[0m | \u001B[34m\u001B[1mDEBUG   \u001B[0m | \u001B[36mwattelse.data_provider.curebot_provider\u001B[0m:\u001B[36m_parse_entry\u001B[0m:\u001B[36m43\u001B[0m - \u001B[34m\u001B[1m----- Title: EPR de Flamanville : l'ASN consulte pour la mise en service,\tDate: 2024-03-28 15:24:39\u001B[0m\n",
      "\u001B[32m2024-05-21 21:45:22.709\u001B[0m | \u001B[34m\u001B[1mDEBUG   \u001B[0m | \u001B[36mwattelse.data_provider.data_provider\u001B[0m:\u001B[36m_get_text\u001B[0m:\u001B[36m116\u001B[0m - \u001B[34m\u001B[1mExtracting text from https://www.revolution-energetique.com/tout-savoir-sur-montezic-2-le-mega-chantier-de-stockage-delectricite-quedf-veut-lancer/\u001B[0m\n",
      "\u001B[32m2024-05-21 21:45:22.868\u001B[0m | \u001B[34m\u001B[1mDEBUG   \u001B[0m | \u001B[36mwattelse.data_provider.curebot_provider\u001B[0m:\u001B[36m_parse_entry\u001B[0m:\u001B[36m43\u001B[0m - \u001B[34m\u001B[1m----- Title: Tout savoir sur Montézic 2, le méga-chantier de stockage d’électricité qu’EDF veut lancer,\tDate: 2024-03-21 12:27:48\u001B[0m\n",
      "\u001B[32m2024-05-21 21:45:22.871\u001B[0m | \u001B[34m\u001B[1mDEBUG   \u001B[0m | \u001B[36mwattelse.data_provider.data_provider\u001B[0m:\u001B[36m_get_text\u001B[0m:\u001B[36m116\u001B[0m - \u001B[34m\u001B[1mExtracting text from https://france3-regions.francetvinfo.fr/pays-de-la-loire/projets-de-parcs-eoliens-en-mer-les-pecheurs-veulent-etre-consultes-2942148.html\u001B[0m\n",
      "Publish date 19/03/2024 à 16h55 could not be resolved to UTC\n",
      "\u001B[32m2024-05-21 21:45:23.642\u001B[0m | \u001B[34m\u001B[1mDEBUG   \u001B[0m | \u001B[36mwattelse.data_provider.curebot_provider\u001B[0m:\u001B[36m_parse_entry\u001B[0m:\u001B[36m43\u001B[0m - \u001B[34m\u001B[1m----- Title: Projets de parcs éoliens en mer, les pêcheurs veulent être consultés,\tDate: 2024-03-19 15:59:34\u001B[0m\n",
      "\u001B[32m2024-05-21 21:45:23.645\u001B[0m | \u001B[34m\u001B[1mDEBUG   \u001B[0m | \u001B[36mwattelse.data_provider.data_provider\u001B[0m:\u001B[36m_get_text\u001B[0m:\u001B[36m116\u001B[0m - \u001B[34m\u001B[1mExtracting text from https://www.revolution-energetique.com/ce-gigantesque-datacenter-damazon-sera-directement-alimente-par-une-centrale-nucleaire/\u001B[0m\n",
      "\u001B[32m2024-05-21 21:45:23.872\u001B[0m | \u001B[34m\u001B[1mDEBUG   \u001B[0m | \u001B[36mwattelse.data_provider.curebot_provider\u001B[0m:\u001B[36m_parse_entry\u001B[0m:\u001B[36m43\u001B[0m - \u001B[34m\u001B[1m----- Title: Ce gigantesque datacenter d'Amazon sera directement alimenté par une centrale nucléaire,\tDate: 2024-03-12 16:12:12\u001B[0m\n",
      "\u001B[32m2024-05-21 21:45:23.875\u001B[0m | \u001B[34m\u001B[1mDEBUG   \u001B[0m | \u001B[36mwattelse.data_provider.data_provider\u001B[0m:\u001B[36m_get_text\u001B[0m:\u001B[36m116\u001B[0m - \u001B[34m\u001B[1mExtracting text from https://www.lavieeco.com/affaires/xlinks-precise-maroc-uk-cest-notre-priorite/\u001B[0m\n",
      "\u001B[32m2024-05-21 21:45:29.485\u001B[0m | \u001B[34m\u001B[1mDEBUG   \u001B[0m | \u001B[36mwattelse.data_provider.curebot_provider\u001B[0m:\u001B[36m_parse_entry\u001B[0m:\u001B[36m43\u001B[0m - \u001B[34m\u001B[1m----- Title: Xlinks précise : Maroc-UK, c’est notre priorité,\tDate: 2024-03-12 14:30:21\u001B[0m\n",
      "\u001B[32m2024-05-21 21:45:29.488\u001B[0m | \u001B[34m\u001B[1mDEBUG   \u001B[0m | \u001B[36mwattelse.data_provider.data_provider\u001B[0m:\u001B[36m_get_text\u001B[0m:\u001B[36m116\u001B[0m - \u001B[34m\u001B[1mExtracting text from https://objectifaquitaine.latribune.fr/business/2024-03-05/pourquoi-horizeo-reduit-la-voilure-de-sa-centrale-solaire-geante-en-gironde-992166.html\u001B[0m\n",
      "Publish date 2024-03-05CET16:31:00+0100 could not be resolved to UTC\n",
      "\u001B[32m2024-05-21 21:45:30.329\u001B[0m | \u001B[34m\u001B[1mDEBUG   \u001B[0m | \u001B[36mwattelse.data_provider.curebot_provider\u001B[0m:\u001B[36m_parse_entry\u001B[0m:\u001B[36m43\u001B[0m - \u001B[34m\u001B[1m----- Title: Pourquoi Horizeo réduit la voilure de sa centrale solaire géante en Gironde,\tDate: 2024-03-05 15:37:45\u001B[0m\n",
      "\u001B[32m2024-05-21 21:45:30.338\u001B[0m | \u001B[34m\u001B[1mDEBUG   \u001B[0m | \u001B[36mwattelse.data_provider.data_provider\u001B[0m:\u001B[36m_get_text\u001B[0m:\u001B[36m116\u001B[0m - \u001B[34m\u001B[1mExtracting text from https://www.huffingtonpost.fr/environnement/article/edf-participe-a-neom-projet-de-megalopole-futuriste-en-arabie-saoudite-et-se-met-des-salaries-a-dos_230599.html\u001B[0m\n",
      "\u001B[32m2024-05-21 21:45:30.519\u001B[0m | \u001B[34m\u001B[1mDEBUG   \u001B[0m | \u001B[36mwattelse.data_provider.curebot_provider\u001B[0m:\u001B[36m_parse_entry\u001B[0m:\u001B[36m43\u001B[0m - \u001B[34m\u001B[1m----- Title: La participation d’EDF à une mégalopole futuriste en Arabie Saoudite inquiète en interne,\tDate: 2024-03-01 13:37:02\u001B[0m\n",
      "\u001B[32m2024-05-21 21:45:30.521\u001B[0m | \u001B[34m\u001B[1mDEBUG   \u001B[0m | \u001B[36mwattelse.data_provider.data_provider\u001B[0m:\u001B[36m_get_text\u001B[0m:\u001B[36m116\u001B[0m - \u001B[34m\u001B[1mExtracting text from https://www.greenunivers.com/2024/03/edf-a-la-manoeuvre-sur-les-step-a-linternational-348059/\u001B[0m\n",
      "\u001B[32m2024-05-21 21:45:30.739\u001B[0m | \u001B[34m\u001B[1mDEBUG   \u001B[0m | \u001B[36mwattelse.data_provider.curebot_provider\u001B[0m:\u001B[36m_parse_entry\u001B[0m:\u001B[36m43\u001B[0m - \u001B[34m\u001B[1m----- Title: EDF à la manoeuvre sur les Step à l'international,\tDate: 2024-03-01 13:36:47\u001B[0m\n",
      "\u001B[32m2024-05-21 21:45:30.746\u001B[0m | \u001B[34m\u001B[1mDEBUG   \u001B[0m | \u001B[36mwattelse.data_provider.data_provider\u001B[0m:\u001B[36m_get_text\u001B[0m:\u001B[36m116\u001B[0m - \u001B[34m\u001B[1mExtracting text from https://www.lefigaro.fr/bordeaux/extinction-des-rues-la-nuit-a-bordeaux-plus-d-un-an-apres-la-mairie-se-felicite-des-resultats-20240412\u001B[0m\n",
      "\u001B[32m2024-05-21 21:45:31.386\u001B[0m | \u001B[34m\u001B[1mDEBUG   \u001B[0m | \u001B[36mwattelse.data_provider.curebot_provider\u001B[0m:\u001B[36m_parse_entry\u001B[0m:\u001B[36m43\u001B[0m - \u001B[34m\u001B[1m----- Title: Extinction des rues la nuit à Bordeaux : plus d'un an après, la mairie se félicite des résultats,\tDate: 2024-04-12 14:53:20\u001B[0m\n",
      "\u001B[32m2024-05-21 21:45:31.389\u001B[0m | \u001B[34m\u001B[1mDEBUG   \u001B[0m | \u001B[36mwattelse.data_provider.data_provider\u001B[0m:\u001B[36m_get_text\u001B[0m:\u001B[36m116\u001B[0m - \u001B[34m\u001B[1mExtracting text from https://www.actu-environnement.com/ae/news/consultation-efficacite-energetique-organismes-publics-transcription-directive-43835.php4\u001B[0m\n",
      "\u001B[32m2024-05-21 21:45:31.521\u001B[0m | \u001B[34m\u001B[1mDEBUG   \u001B[0m | \u001B[36mwattelse.data_provider.curebot_provider\u001B[0m:\u001B[36m_parse_entry\u001B[0m:\u001B[36m43\u001B[0m - \u001B[34m\u001B[1m----- Title: Efficacité énergétique des organismes publics : l'État consulte avant de transposer la directive européenne,\tDate: 2024-04-08 15:20:22\u001B[0m\n",
      "\u001B[32m2024-05-21 21:45:31.524\u001B[0m | \u001B[34m\u001B[1mDEBUG   \u001B[0m | \u001B[36mwattelse.data_provider.data_provider\u001B[0m:\u001B[36m_get_text\u001B[0m:\u001B[36m116\u001B[0m - \u001B[34m\u001B[1mExtracting text from https://cler.org/extraction-miniere-enjeux-transition/\u001B[0m\n",
      "Publish date 2 avril 2024 could not be resolved to UTC\n",
      "\u001B[32m2024-05-21 21:45:32.649\u001B[0m | \u001B[34m\u001B[1mDEBUG   \u001B[0m | \u001B[36mwattelse.data_provider.curebot_provider\u001B[0m:\u001B[36m_parse_entry\u001B[0m:\u001B[36m43\u001B[0m - \u001B[34m\u001B[1m----- Title: Extraction minière : quels enjeux pour la transition ?,\tDate: 2024-04-02 06:40:31\u001B[0m\n",
      "\u001B[32m2024-05-21 21:45:32.652\u001B[0m | \u001B[34m\u001B[1mDEBUG   \u001B[0m | \u001B[36mwattelse.data_provider.data_provider\u001B[0m:\u001B[36m_get_text\u001B[0m:\u001B[36m116\u001B[0m - \u001B[34m\u001B[1mExtracting text from https://www.lemonde.fr/economie/article/2024/03/28/edf-les-contrats-incitatifs-seduisent-de-plus-en-plus-de-clients_6224694_3234.html\u001B[0m\n",
      "\u001B[32m2024-05-21 21:45:32.955\u001B[0m | \u001B[34m\u001B[1mDEBUG   \u001B[0m | \u001B[36mwattelse.data_provider.curebot_provider\u001B[0m:\u001B[36m_parse_entry\u001B[0m:\u001B[36m43\u001B[0m - \u001B[34m\u001B[1m----- Title: EDF : les contrats incitatifs séduisent de plus en plus de clients,\tDate: 2024-03-28 16:26:17\u001B[0m\n",
      "\u001B[32m2024-05-21 21:45:32.958\u001B[0m | \u001B[34m\u001B[1mDEBUG   \u001B[0m | \u001B[36mwattelse.data_provider.data_provider\u001B[0m:\u001B[36m_get_text\u001B[0m:\u001B[36m116\u001B[0m - \u001B[34m\u001B[1mExtracting text from https://www.latribune.fr/economie/france/sobriete-energetique-l-etat-a-economise-150-millions-d-euros-en-reduisant-la-consommation-de-ses-batiments-994040.html\u001B[0m\n",
      "Publish date 2024-03-28CET13:18:00+0100 could not be resolved to UTC\n",
      "\u001B[32m2024-05-21 21:45:33.667\u001B[0m | \u001B[34m\u001B[1mDEBUG   \u001B[0m | \u001B[36mwattelse.data_provider.curebot_provider\u001B[0m:\u001B[36m_parse_entry\u001B[0m:\u001B[36m43\u001B[0m - \u001B[34m\u001B[1m----- Title: Sobriété énergétique : l'Etat a économisé 150 millions d'euros en réduisant la consommation de ses bâtiments,\tDate: 2024-03-28 12:28:48\u001B[0m\n",
      "\u001B[32m2024-05-21 21:45:33.671\u001B[0m | \u001B[34m\u001B[1mDEBUG   \u001B[0m | \u001B[36mwattelse.data_provider.data_provider\u001B[0m:\u001B[36m_get_text\u001B[0m:\u001B[36m116\u001B[0m - \u001B[34m\u001B[1mExtracting text from https://sciencepost.fr/chercheuse-giec-cree-laboratoire-mondial-sobriete/\u001B[0m\n",
      "\u001B[32m2024-05-21 21:45:40.292\u001B[0m | \u001B[34m\u001B[1mDEBUG   \u001B[0m | \u001B[36mwattelse.data_provider.curebot_provider\u001B[0m:\u001B[36m_parse_entry\u001B[0m:\u001B[36m43\u001B[0m - \u001B[34m\u001B[1m----- Title: Une chercheuse du GIEC crée le Laboratoire mondial de la sobriété,\tDate: 2024-03-26 16:21:04\u001B[0m\n",
      "\u001B[32m2024-05-21 21:45:40.295\u001B[0m | \u001B[34m\u001B[1mDEBUG   \u001B[0m | \u001B[36mwattelse.data_provider.data_provider\u001B[0m:\u001B[36m_get_text\u001B[0m:\u001B[36m116\u001B[0m - \u001B[34m\u001B[1mExtracting text from https://youmatter.world/fr/categorie-societe/sobriete-finance-precarite-environnent/\u001B[0m\n",
      "\u001B[32m2024-05-21 21:45:41.578\u001B[0m | \u001B[34m\u001B[1mDEBUG   \u001B[0m | \u001B[36mwattelse.data_provider.curebot_provider\u001B[0m:\u001B[36m_parse_entry\u001B[0m:\u001B[36m43\u001B[0m - \u001B[34m\u001B[1m----- Title: Les Français et la sobriété : une question d’euros plus que d’écologie,\tDate: 2024-03-25 08:14:48\u001B[0m\n",
      "\u001B[32m2024-05-21 21:45:41.581\u001B[0m | \u001B[34m\u001B[1mDEBUG   \u001B[0m | \u001B[36mwattelse.data_provider.data_provider\u001B[0m:\u001B[36m_get_text\u001B[0m:\u001B[36m116\u001B[0m - \u001B[34m\u001B[1mExtracting text from https://rmc.bfmtv.com/conso/maison/selon-une-etude-un-logement-social-renove-consomme-en-moyenne-28-d-energie-en-moins_AN-202403180560.html\u001B[0m\n",
      "Publish date 18/03/2024 à 16:16 could not be resolved to UTC\n",
      "\u001B[32m2024-05-21 21:45:41.938\u001B[0m | \u001B[34m\u001B[1mDEBUG   \u001B[0m | \u001B[36mwattelse.data_provider.curebot_provider\u001B[0m:\u001B[36m_parse_entry\u001B[0m:\u001B[36m43\u001B[0m - \u001B[34m\u001B[1m----- Title: Selon une étude, un logement social rénové consomme en moyenne 28% d'énergie en moins,\tDate: 2024-03-18 15:27:09\u001B[0m\n",
      "\u001B[32m2024-05-21 21:45:41.941\u001B[0m | \u001B[34m\u001B[1mDEBUG   \u001B[0m | \u001B[36mwattelse.data_provider.data_provider\u001B[0m:\u001B[36m_get_text\u001B[0m:\u001B[36m116\u001B[0m - \u001B[34m\u001B[1mExtracting text from https://www.saint-etienne.fr/actualites/saint-%C3%A9tienne-poursuit-modernisation-%C3%A9clairage\u001B[0m\n",
      "\u001B[32m2024-05-21 21:45:43.671\u001B[0m | \u001B[34m\u001B[1mDEBUG   \u001B[0m | \u001B[36mwattelse.data_provider.curebot_provider\u001B[0m:\u001B[36m_parse_entry\u001B[0m:\u001B[36m43\u001B[0m - \u001B[34m\u001B[1m----- Title: Saint-Étienne poursuit la modernisation de son éclairage | Site Internet de la ville de Saint-Etienne,\tDate: 2024-03-12 10:27:21\u001B[0m\n",
      "\u001B[32m2024-05-21 21:45:43.674\u001B[0m | \u001B[34m\u001B[1mDEBUG   \u001B[0m | \u001B[36mwattelse.data_provider.data_provider\u001B[0m:\u001B[36m_get_text\u001B[0m:\u001B[36m116\u001B[0m - \u001B[34m\u001B[1mExtracting text from https://observatoire-electricite.fr/politique-energetique/article/comprendre-la-sobriete-energetique-et-ses-enjeux\u001B[0m\n",
      "\u001B[32m2024-05-21 21:45:44.221\u001B[0m | \u001B[34m\u001B[1mDEBUG   \u001B[0m | \u001B[36mwattelse.data_provider.curebot_provider\u001B[0m:\u001B[36m_parse_entry\u001B[0m:\u001B[36m43\u001B[0m - \u001B[34m\u001B[1m----- Title: Comprendre la sobriété énergétique et ses enjeux,\tDate: 2024-03-11 14:42:41\u001B[0m\n",
      "\u001B[32m2024-05-21 21:45:44.224\u001B[0m | \u001B[34m\u001B[1mDEBUG   \u001B[0m | \u001B[36mwattelse.data_provider.data_provider\u001B[0m:\u001B[36m_get_text\u001B[0m:\u001B[36m116\u001B[0m - \u001B[34m\u001B[1mExtracting text from https://www.huffingtonpost.fr/life/article/les-francais-sont-pour-la-sobriete-mais-pas-pour-des-raisons-ecologiques-selon-cette-etude-de-l-ademe_230935.html\u001B[0m\n",
      "\u001B[32m2024-05-21 21:45:44.449\u001B[0m | \u001B[34m\u001B[1mDEBUG   \u001B[0m | \u001B[36mwattelse.data_provider.curebot_provider\u001B[0m:\u001B[36m_parse_entry\u001B[0m:\u001B[36m43\u001B[0m - \u001B[34m\u001B[1m----- Title: Sur la sobriété, les Français sont pleins de paradoxes,\tDate: 2024-03-08 11:22:41\u001B[0m\n",
      "\u001B[32m2024-05-21 21:45:44.451\u001B[0m | \u001B[34m\u001B[1mDEBUG   \u001B[0m | \u001B[36mwattelse.data_provider.data_provider\u001B[0m:\u001B[36m_get_text\u001B[0m:\u001B[36m116\u001B[0m - \u001B[34m\u001B[1mExtracting text from https://www.lesechos.fr/industrie-services/energie-environnement/gaz-russe-la-france-championne-deurope-des-importations-malgre-la-guerre-2088503\u001B[0m\n",
      "\u001B[32m2024-05-21 21:45:44.678\u001B[0m | \u001B[34m\u001B[1mDEBUG   \u001B[0m | \u001B[36mwattelse.data_provider.curebot_provider\u001B[0m:\u001B[36m_parse_entry\u001B[0m:\u001B[36m43\u001B[0m - \u001B[34m\u001B[1m----- Title: Gaz russe : la France championne d'Europe des importations malgré la guerre en Ukraine,\tDate: 2024-04-12 08:39:32\u001B[0m\n",
      "\u001B[32m2024-05-21 21:45:44.682\u001B[0m | \u001B[34m\u001B[1mDEBUG   \u001B[0m | \u001B[36mwattelse.data_provider.data_provider\u001B[0m:\u001B[36m_get_text\u001B[0m:\u001B[36m116\u001B[0m - \u001B[34m\u001B[1mExtracting text from https://lvsl.fr/importations-de-gaz-de-schiste-en-europe-nouvelle-dependance-letale-pour-le-climat/\u001B[0m\n",
      "\u001B[32m2024-05-21 21:45:46.051\u001B[0m | \u001B[34m\u001B[1mDEBUG   \u001B[0m | \u001B[36mwattelse.data_provider.curebot_provider\u001B[0m:\u001B[36m_parse_entry\u001B[0m:\u001B[36m43\u001B[0m - \u001B[34m\u001B[1m----- Title: Importations de gaz de schiste en Europe : nouvelle dépendance létale pour le climat,\tDate: 2024-03-05 21:26:56\u001B[0m\n",
      "\u001B[32m2024-05-21 21:45:46.053\u001B[0m | \u001B[34m\u001B[1mDEBUG   \u001B[0m | \u001B[36mwattelse.data_provider.data_provider\u001B[0m:\u001B[36m_get_text\u001B[0m:\u001B[36m116\u001B[0m - \u001B[34m\u001B[1mExtracting text from https://www.francegaz.fr/france-gaz-et-gesip/\u001B[0m\n",
      "\u001B[32m2024-05-21 21:45:46.849\u001B[0m | \u001B[34m\u001B[1mDEBUG   \u001B[0m | \u001B[36mwattelse.data_provider.curebot_provider\u001B[0m:\u001B[36m_parse_entry\u001B[0m:\u001B[36m43\u001B[0m - \u001B[34m\u001B[1m----- Title: France gaz et Gesip, expert en sécurité industrielle, signent un partenariat sur les enjeux de la sécurité des réseaux et l’évolution des infrastructures de transport de gaz et d’hydrogène,\tDate: 2024-03-01 10:46:14\u001B[0m\n",
      "\u001B[32m2024-05-21 21:45:46.852\u001B[0m | \u001B[34m\u001B[1mDEBUG   \u001B[0m | \u001B[36mwattelse.data_provider.data_provider\u001B[0m:\u001B[36m_get_text\u001B[0m:\u001B[36m116\u001B[0m - \u001B[34m\u001B[1mExtracting text from https://www.lemonde.fr/international/article/2024/04/16/contre-la-menace-russe-six-pays-nouent-un-pacte-pour-proteger-les-infrastructures-de-la-mer-du-nord_6228180_3210.html?lmd_medium=al&lmd_campaign=envoye-par-appli&lmd_creation=ios&lmd_source=mail\u001B[0m\n",
      "\u001B[32m2024-05-21 21:45:47.143\u001B[0m | \u001B[34m\u001B[1mDEBUG   \u001B[0m | \u001B[36mwattelse.data_provider.curebot_provider\u001B[0m:\u001B[36m_parse_entry\u001B[0m:\u001B[36m43\u001B[0m - \u001B[34m\u001B[1m----- Title: Contre la menace russe, six pays nouent un « pacte » pour protéger les infrastructures de la mer du Nord,\tDate: 2024-04-18 07:45:25\u001B[0m\n",
      "\u001B[32m2024-05-21 21:45:47.147\u001B[0m | \u001B[34m\u001B[1mDEBUG   \u001B[0m | \u001B[36mwattelse.data_provider.data_provider\u001B[0m:\u001B[36m_get_text\u001B[0m:\u001B[36m116\u001B[0m - \u001B[34m\u001B[1mExtracting text from https://www.connaissancedesenergies.org/afp/en-moldavie-une-nouvelle-ligne-electrique-pour-semanciper-de-moscou-240409\u001B[0m\n",
      "Publish date 09 avr. 2024 - 12:38 could not be resolved to UTC\n",
      "\u001B[32m2024-05-21 21:45:47.882\u001B[0m | \u001B[34m\u001B[1mDEBUG   \u001B[0m | \u001B[36mwattelse.data_provider.curebot_provider\u001B[0m:\u001B[36m_parse_entry\u001B[0m:\u001B[36m43\u001B[0m - \u001B[34m\u001B[1m----- Title: En Moldavie, une nouvelle ligne électrique pour s'émanciper de Moscou,\tDate: 2024-04-09 10:53:09\u001B[0m\n",
      "\u001B[32m2024-05-21 21:45:47.885\u001B[0m | \u001B[34m\u001B[1mDEBUG   \u001B[0m | \u001B[36mwattelse.data_provider.data_provider\u001B[0m:\u001B[36m_get_text\u001B[0m:\u001B[36m116\u001B[0m - \u001B[34m\u001B[1mExtracting text from https://www.tf1info.fr/elections/elections-europeennes-une-ong-bloom-evalue-les-bons-et-mauvais-eleves-de-l-environnement-au-parlement-2289953.html\u001B[0m\n",
      "\u001B[32m2024-05-21 21:45:48.182\u001B[0m | \u001B[34m\u001B[1mDEBUG   \u001B[0m | \u001B[36mwattelse.data_provider.curebot_provider\u001B[0m:\u001B[36m_parse_entry\u001B[0m:\u001B[36m43\u001B[0m - \u001B[34m\u001B[1m----- Title: Élections européennes : une ONG évalue les \"bons\" et \"mauvais\" élèves de l'environnement au Parlement,\tDate: 2024-03-20 06:25:34\u001B[0m\n",
      "\u001B[32m2024-05-21 21:45:48.185\u001B[0m | \u001B[34m\u001B[1mDEBUG   \u001B[0m | \u001B[36mwattelse.data_provider.data_provider\u001B[0m:\u001B[36m_get_text\u001B[0m:\u001B[36m116\u001B[0m - \u001B[34m\u001B[1mExtracting text from https://www.latribune.fr/supplement/la-tribune-now/des-think-tanks-aux-cahiers-regionaux-totalenergies-reunit-les-acteurs-territoriaux-sur-les-enjeux-de-l-energie-991261.html\u001B[0m\n",
      "Publish date 2024-03-08CET10:45:00+0100 could not be resolved to UTC\n",
      "\u001B[32m2024-05-21 21:45:49.226\u001B[0m | \u001B[34m\u001B[1mDEBUG   \u001B[0m | \u001B[36mwattelse.data_provider.curebot_provider\u001B[0m:\u001B[36m_parse_entry\u001B[0m:\u001B[36m43\u001B[0m - \u001B[34m\u001B[1m----- Title: Des think-tanks aux cahiers régionaux : TotalEnergies réunit les acteurs territoriaux sur les enjeux de l’énergie,\tDate: 2024-03-08 10:57:57\u001B[0m\n"
     ]
    }
   ],
   "execution_count": 11
  },
  {
   "metadata": {
    "ExecuteTime": {
     "end_time": "2024-05-21T19:45:59.478764Z",
     "start_time": "2024-05-21T19:45:59.473357Z"
    }
   },
   "cell_type": "code",
   "source": [
    "len(articles)\n",
    "\n"
   ],
   "id": "35d63ab115d45ca0",
   "outputs": [
    {
     "data": {
      "text/plain": [
       "52"
      ]
     },
     "execution_count": 12,
     "metadata": {},
     "output_type": "execute_result"
    }
   ],
   "execution_count": 12
  },
  {
   "metadata": {
    "ExecuteTime": {
     "end_time": "2024-05-21T19:47:30.115888Z",
     "start_time": "2024-05-21T19:47:30.112148Z"
    }
   },
   "cell_type": "code",
   "source": "print(articles[0]['text'])",
   "id": "9368a9ec655007cf",
   "outputs": [
    {
     "name": "stdout",
     "output_type": "stream",
     "text": [
      "Commencé en novembre 2023, le débat national « La mer en débat » avait pour but d’informer et de concerter le grand public sur l’avenir de la mer.\n",
      "• « La façon dont les activités industrielles, de pêche, de production d’énergie, de transport, de loisirs et de tourisme, etc., vont cohabiter à l’horizon 2035 et 2050 » ;\n",
      "• « Les objectifs de protection de l’environnement et de la biodiversité marine, les objectifs de développement de l’éolien en mer et les zones potentielles de nouveaux parcs » ;\n",
      "• « Les alternatives à l’éolien en mer ».\n",
      "\n",
      "Ce débat public est une commande du ministère de la Transition écologique. L’objectif final est de mettre à jour les documents stratégiques de façade (DSF) et la cartographie de l’éolien en mer sur chacune des façades maritimes.\n",
      "\n",
      "À quelques jours de la fin du débat – prévue vendredi 26 avril 2024 – Dominique Pacory, délégué en Normandie pour la Commission nationale du débat public (CNDP) et coordinateur de la façade Normandie Hauts-de-France, dresse les premiers constats.\n",
      "\n",
      "« La mer en débat », une consultation nationale commencée en novembre 2023, se termine ce vendredi 26 avril 2024. Quels sont les premiers résultats sur notre territoire, la façade Normandie Hauts-de-France ?\n",
      "\n",
      "Dominique Pacory : « Nous avons rencontré environ 5 000 personnes. Les étudiants de l’université de Caen, de Science Po Rennes campus Caen, des grandes écoles du Mans, de l’IUT d’Alençon et des lycées maritimes ont été acteurs du débat. Nous avons rencontré des pêcheurs, des responsables de port, des élus… On a récolté une trentaine de cahiers d’acteurs. Ce sont des documents de quatre pages, dans lesquels les corps constitués (collectivités ou associations) font part de leurs observations, suggestions et priorités au maître d’ouvrage qui est l’État.\n",
      "\n",
      "Le public aussi a pu, à son niveau, déposer des contributions. Nous avons réalisé plus d’une centaine de modalités : des tables rondes, ateliers, réunions publiques classiques, débats mobiles… Nous avons aussi été chercher le public éloigné de l’information : les centres sociaux, les jeunes de la zone Perseigne (Orne), des personnes handicapées avec les Papillons blancs dans les Hauts-de-France par exemple. »\n",
      "\n",
      "Dominique Pacory : « Oui, en ce qui nous concerne, les gens se sont exprimés sur toute la façade. On a diversifié les thématiques durant les sept escales : ce qui touchait à la biodiversité du golfe normand breton à Granville, la pêche à Boulogne-sur-Mer et à Cherbourg, la décarbonation des ports au Havre, le paysage à Ouistreham et la pollution terre-mer à Boulogne et Abbeville… Les sujets abordés ont aussi été impactés par l’actualité : les inondations dans le Nord, la pollution terre-mer avec les virus de fin d’année sur les huîtres.\n",
      "\n",
      "En termes de biodiversité, les gens devaient aussi se prononcer sur les zones de protection forte (ZPF). Pour renforcer les aires marines protégées en mer, l’État prévoit 1 % de ZPF sur notre territoire et l’arrivée d’entre 7 et 11 gigawatts d’éolien en mer en plus des six parcs éoliens attribués ou en cours d’attribution (Dieppe, Le Tréport, Fécamp, Courseulles, Centre-Manche 1, Centre-Manche 2). L’État a proposé trois grandes zones : au nord de la Seine-Maritime, sur le parc naturel marin sur les côtes d’Opale et d’Albâtre et à l’ouest des îles anglo-normandes. Les gens ont pu débattre sur les quantités de puissance et la localisation des parcs. On a demandé aux participants de réaliser des cartes de ZPF et d’emplacements de parcs éventuels. On a des résultats intéressants. »\n",
      "\n",
      "Dominique Pacory : « L’arrivée des nouveaux parcs interroge les gens à Courseulles, à Fécamp… Les gens ont pris conscience de la nécessité de la sobriété et du réchauffement climatique. »\n",
      "\n",
      "Quelle est la prochaine étape ?\n",
      "\n",
      "Dominique Pacory : « Ce débat se termine vendredi. Nous, les représentants de la CNDP, avons maintenant deux mois pour rédiger un compte rendu. Nous ferons des recommandations à l’État, issues des contributions du public et sur la façon de concerter à l’avenir. L’État aura trois mois pour nous répondre. »\n",
      "\n",
      "Suivez toute l’actualité de vos villes et médias favoris en vous inscrivant à Mon Actu.\n"
     ]
    }
   ],
   "execution_count": 16
  },
  {
   "metadata": {
    "ExecuteTime": {
     "end_time": "2024-05-21T19:46:08.912049Z",
     "start_time": "2024-05-21T19:46:08.908652Z"
    }
   },
   "cell_type": "code",
   "source": "output_file = '/home/jerome/shared/curebot_articles.jsonl'",
   "id": "cd1e15ca55c99788",
   "outputs": [],
   "execution_count": 14
  },
  {
   "metadata": {
    "ExecuteTime": {
     "end_time": "2024-05-21T19:46:12.102627Z",
     "start_time": "2024-05-21T19:46:12.062382Z"
    }
   },
   "cell_type": "code",
   "source": "provider.store_articles(articles, output_file)",
   "id": "ca0e88d25f0d84c3",
   "outputs": [
    {
     "name": "stderr",
     "output_type": "stream",
     "text": [
      "\u001B[32m2024-05-21 21:46:12.100\u001B[0m | \u001B[1mINFO    \u001B[0m | \u001B[36mwattelse.data_provider.data_provider\u001B[0m:\u001B[36mstore_articles\u001B[0m:\u001B[36m100\u001B[0m - \u001B[1mData stored to /home/jerome/shared/curebot_articles.jsonl [52 entries].\u001B[0m\n"
     ]
    }
   ],
   "execution_count": 15
  }
 ],
 "metadata": {
  "kernelspec": {
   "display_name": "Python 3",
   "language": "python",
   "name": "python3"
  },
  "language_info": {
   "codemirror_mode": {
    "name": "ipython",
    "version": 2
   },
   "file_extension": ".py",
   "mimetype": "text/x-python",
   "name": "python",
   "nbconvert_exporter": "python",
   "pygments_lexer": "ipython2",
   "version": "2.7.6"
  }
 },
 "nbformat": 4,
 "nbformat_minor": 5
}
