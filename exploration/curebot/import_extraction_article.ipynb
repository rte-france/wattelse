{
 "cells": [
  {
   "metadata": {},
   "cell_type": "markdown",
   "source": "Import extraction article",
   "id": "3c7e4968da937628"
  },
  {
   "metadata": {
    "ExecuteTime": {
     "end_time": "2024-05-21T19:25:56.654536Z",
     "start_time": "2024-05-21T19:25:56.648993Z"
    }
   },
   "cell_type": "code",
   "source": [
    "from pathlib import Path\n",
    "import pandas as pd\n",
    "from wattelse.data_provider.curebot_provider import CurebotProvider\n",
    "from loguru import logger\n",
    "from typing import Dict, List, Optional\n",
    "import dateparser\n"
   ],
   "id": "4a4893bf8790823b",
   "outputs": [],
   "execution_count": 82
  },
  {
   "metadata": {
    "ExecuteTime": {
     "end_time": "2024-05-21T19:25:58.035184Z",
     "start_time": "2024-05-21T19:25:58.031759Z"
    }
   },
   "cell_type": "code",
   "source": "file_path = Path(\"/home/jerome/shared/synthèses veille énergie/Extraction article VA Energie mars-avril 24 pour IA.xlsx\")\n",
   "id": "4f83820d787a541a",
   "outputs": [],
   "execution_count": 83
  },
  {
   "metadata": {
    "ExecuteTime": {
     "end_time": "2024-05-21T19:25:58.838006Z",
     "start_time": "2024-05-21T19:25:58.797327Z"
    }
   },
   "cell_type": "code",
   "source": [
    "# Extract full text from resources\n",
    "provider = CurebotProvider(file_path)"
   ],
   "id": "4d3eda06ea551b8f",
   "outputs": [],
   "execution_count": 84
  },
  {
   "metadata": {
    "ExecuteTime": {
     "end_time": "2024-05-21T19:26:01.098346Z",
     "start_time": "2024-05-21T19:26:00.932013Z"
    }
   },
   "cell_type": "code",
   "source": "articles = provider.get_articles()",
   "id": "2609aa269898c1d5",
   "outputs": [
    {
     "name": "stderr",
     "output_type": "stream",
     "text": [
      "\u001B[32m2024-05-21 21:26:00.941\u001B[0m | \u001B[34m\u001B[1mDEBUG   \u001B[0m | \u001B[36mwattelse.data_provider.curebot_provider\u001B[0m:\u001B[36m_parse_entry\u001B[0m:\u001B[36m44\u001B[0m - \u001B[34m\u001B[1m----- Title: Débat inédit sur la mer : « 5 000 personnes rencontrées sur la façade Normandie Hauts-de-France »,\tDate: 2024-04-23 10:15:33\u001B[0m\n",
      "\u001B[32m2024-05-21 21:26:00.944\u001B[0m | \u001B[34m\u001B[1mDEBUG   \u001B[0m | \u001B[36mwattelse.data_provider.curebot_provider\u001B[0m:\u001B[36m_parse_entry\u001B[0m:\u001B[36m44\u001B[0m - \u001B[34m\u001B[1m----- Title: Pas de loi mais un débat public : le refus d'obstacle du gouvernement sur la politique énergie-climat,\tDate: 2024-04-15 08:07:40\u001B[0m\n",
      "\u001B[32m2024-05-21 21:26:00.947\u001B[0m | \u001B[34m\u001B[1mDEBUG   \u001B[0m | \u001B[36mwattelse.data_provider.curebot_provider\u001B[0m:\u001B[36m_parse_entry\u001B[0m:\u001B[36m44\u001B[0m - \u001B[34m\u001B[1m----- Title: Roland Lescure: «Nous construisons les infrastructures énergétiques des cinquante prochaines années»,\tDate: 2024-04-10 20:14:46\u001B[0m\n",
      "\u001B[32m2024-05-21 21:26:00.950\u001B[0m | \u001B[34m\u001B[1mDEBUG   \u001B[0m | \u001B[36mwattelse.data_provider.curebot_provider\u001B[0m:\u001B[36m_parse_entry\u001B[0m:\u001B[36m44\u001B[0m - \u001B[34m\u001B[1m----- Title: La France lance un \"plan de bataille\" pour essayer de rattraper son retard sur le solaire,\tDate: 2024-04-05 19:04:58\u001B[0m\n",
      "\u001B[32m2024-05-21 21:26:00.953\u001B[0m | \u001B[34m\u001B[1mDEBUG   \u001B[0m | \u001B[36mwattelse.data_provider.curebot_provider\u001B[0m:\u001B[36m_parse_entry\u001B[0m:\u001B[36m44\u001B[0m - \u001B[34m\u001B[1m----- Title: EDF : le Parlement adopte un texte protégeant l’entreprise d’un « démembrement » et étendant les tarifs réglementés aux très petites entreprises,\tDate: 2024-04-03 20:39:59\u001B[0m\n",
      "\u001B[32m2024-05-21 21:26:00.957\u001B[0m | \u001B[34m\u001B[1mDEBUG   \u001B[0m | \u001B[36mwattelse.data_provider.curebot_provider\u001B[0m:\u001B[36m_parse_entry\u001B[0m:\u001B[36m44\u001B[0m - \u001B[34m\u001B[1m----- Title: Electricité : les panneaux solaires, nouveau levier des Français pour faire des économies,\tDate: 2024-03-29 17:08:36\u001B[0m\n",
      "\u001B[32m2024-05-21 21:26:00.959\u001B[0m | \u001B[34m\u001B[1mDEBUG   \u001B[0m | \u001B[36mwattelse.data_provider.curebot_provider\u001B[0m:\u001B[36m_parse_entry\u001B[0m:\u001B[36m44\u001B[0m - \u001B[34m\u001B[1m----- Title: Nucléaire : l’État étudie la construction « en France » d’une usine de conversion de l’uranium retraité,\tDate: 2024-03-29 11:24:16\u001B[0m\n",
      "\u001B[32m2024-05-21 21:26:00.962\u001B[0m | \u001B[34m\u001B[1mDEBUG   \u001B[0m | \u001B[36mwattelse.data_provider.curebot_provider\u001B[0m:\u001B[36m_parse_entry\u001B[0m:\u001B[36m44\u001B[0m - \u001B[34m\u001B[1m----- Title: Nucléaire: la course de fond des fabricants français de mini-réacteurs,\tDate: 2024-03-24 11:42:17\u001B[0m\n",
      "\u001B[32m2024-05-21 21:26:00.964\u001B[0m | \u001B[34m\u001B[1mDEBUG   \u001B[0m | \u001B[36mwattelse.data_provider.curebot_provider\u001B[0m:\u001B[36m_parse_entry\u001B[0m:\u001B[36m44\u001B[0m - \u001B[34m\u001B[1m----- Title: Sur la programmation énergie-climat, une nouvelle concertation sans horizon,\tDate: 2024-03-23 10:03:12\u001B[0m\n",
      "\u001B[32m2024-05-21 21:26:00.966\u001B[0m | \u001B[34m\u001B[1mDEBUG   \u001B[0m | \u001B[36mwattelse.data_provider.curebot_provider\u001B[0m:\u001B[36m_parse_entry\u001B[0m:\u001B[36m44\u001B[0m - \u001B[34m\u001B[1m----- Title: Investissements dans le nucléaire: \"précieux\" pour Bruno Le Maire, \"hors sol\" pour les ONG,\tDate: 2024-03-08 10:32:50\u001B[0m\n",
      "\u001B[32m2024-05-21 21:26:00.970\u001B[0m | \u001B[34m\u001B[1mDEBUG   \u001B[0m | \u001B[36mwattelse.data_provider.curebot_provider\u001B[0m:\u001B[36m_parse_entry\u001B[0m:\u001B[36m44\u001B[0m - \u001B[34m\u001B[1m----- Title: Nucléaire : le gouvernement annonce le prolongement de l’usine de retraitement de La Hague,\tDate: 2024-03-07 15:19:48\u001B[0m\n",
      "\u001B[32m2024-05-21 21:26:00.974\u001B[0m | \u001B[34m\u001B[1mDEBUG   \u001B[0m | \u001B[36mwattelse.data_provider.curebot_provider\u001B[0m:\u001B[36m_parse_entry\u001B[0m:\u001B[36m44\u001B[0m - \u001B[34m\u001B[1m----- Title: En Allemagne, le bashing antiécolo est au zénith,\tDate: 2024-04-17 07:57:18\u001B[0m\n",
      "\u001B[32m2024-05-21 21:26:00.979\u001B[0m | \u001B[34m\u001B[1mDEBUG   \u001B[0m | \u001B[36mwattelse.data_provider.curebot_provider\u001B[0m:\u001B[36m_parse_entry\u001B[0m:\u001B[36m44\u001B[0m - \u001B[34m\u001B[1m----- Title: Nouvel espoir au Japon pour rallumer la plus grande centrale nucléaire du monde,\tDate: 2024-04-16 07:23:32\u001B[0m\n",
      "\u001B[32m2024-05-21 21:26:00.982\u001B[0m | \u001B[34m\u001B[1mDEBUG   \u001B[0m | \u001B[36mwattelse.data_provider.curebot_provider\u001B[0m:\u001B[36m_parse_entry\u001B[0m:\u001B[36m44\u001B[0m - \u001B[34m\u001B[1m----- Title: Ces nouvelles centrales au charbon que le monde continue d’installer à tour de bras,\tDate: 2024-04-15 15:51:28\u001B[0m\n",
      "\u001B[32m2024-05-21 21:26:00.984\u001B[0m | \u001B[34m\u001B[1mDEBUG   \u001B[0m | \u001B[36mwattelse.data_provider.curebot_provider\u001B[0m:\u001B[36m_parse_entry\u001B[0m:\u001B[36m44\u001B[0m - \u001B[34m\u001B[1m----- Title: De l’éolien en mer et du nucléaire : la stratégie polonaise imparable pour sortir du charbon ?,\tDate: 2024-04-14 05:32:39\u001B[0m\n",
      "\u001B[32m2024-05-21 21:26:00.986\u001B[0m | \u001B[34m\u001B[1mDEBUG   \u001B[0m | \u001B[36mwattelse.data_provider.curebot_provider\u001B[0m:\u001B[36m_parse_entry\u001B[0m:\u001B[36m44\u001B[0m - \u001B[34m\u001B[1m----- Title: Énergies renouvelables : un vent nouveau souffle sur le secteur éolien en Grèce,\tDate: 2024-04-12 15:17:40\u001B[0m\n",
      "\u001B[32m2024-05-21 21:26:00.988\u001B[0m | \u001B[34m\u001B[1mDEBUG   \u001B[0m | \u001B[36mwattelse.data_provider.curebot_provider\u001B[0m:\u001B[36m_parse_entry\u001B[0m:\u001B[36m44\u001B[0m - \u001B[34m\u001B[1m----- Title: Le pays le plus peuplé du monde compte sur le duo nucléaire et renouvelables pour atteindre la neutralité carbone,\tDate: 2024-04-10 15:06:15\u001B[0m\n",
      "\u001B[32m2024-05-21 21:26:00.991\u001B[0m | \u001B[34m\u001B[1mDEBUG   \u001B[0m | \u001B[36mwattelse.data_provider.curebot_provider\u001B[0m:\u001B[36m_parse_entry\u001B[0m:\u001B[36m44\u001B[0m - \u001B[34m\u001B[1m----- Title: Le pays le plus pauvre d’Europe a t-il vraiment troqué son charbon pour des panneaux solaires ?,\tDate: 2024-04-09 15:18:28\u001B[0m\n",
      "\u001B[32m2024-05-21 21:26:00.993\u001B[0m | \u001B[34m\u001B[1mDEBUG   \u001B[0m | \u001B[36mwattelse.data_provider.curebot_provider\u001B[0m:\u001B[36m_parse_entry\u001B[0m:\u001B[36m44\u001B[0m - \u001B[34m\u001B[1m----- Title: Ses panneaux solaires produisent trop d’énergie : ce pays d’Europe est contraint de les débrancher,\tDate: 2024-04-05 04:38:48\u001B[0m\n",
      "\u001B[32m2024-05-21 21:26:00.995\u001B[0m | \u001B[34m\u001B[1mDEBUG   \u001B[0m | \u001B[36mwattelse.data_provider.curebot_provider\u001B[0m:\u001B[36m_parse_entry\u001B[0m:\u001B[36m44\u001B[0m - \u001B[34m\u001B[1m----- Title: Sortie progressive du charbon : l’Allemagne ferme quinze centrales,\tDate: 2024-04-02 05:29:20\u001B[0m\n",
      "\u001B[32m2024-05-21 21:26:00.998\u001B[0m | \u001B[34m\u001B[1mDEBUG   \u001B[0m | \u001B[36mwattelse.data_provider.curebot_provider\u001B[0m:\u001B[36m_parse_entry\u001B[0m:\u001B[36m44\u001B[0m - \u001B[34m\u001B[1m----- Title: L'étonnant virage pro-nucléaire de Bruxelles,\tDate: 2024-03-22 16:22:41\u001B[0m\n",
      "\u001B[32m2024-05-21 21:26:01.000\u001B[0m | \u001B[34m\u001B[1mDEBUG   \u001B[0m | \u001B[36mwattelse.data_provider.curebot_provider\u001B[0m:\u001B[36m_parse_entry\u001B[0m:\u001B[36m44\u001B[0m - \u001B[34m\u001B[1m----- Title: Climat : l'Allemagne sur la bonne voie pour atteindre ses objectifs à l'horizon 2030,\tDate: 2024-03-15 13:17:40\u001B[0m\n",
      "\u001B[32m2024-05-21 21:26:01.003\u001B[0m | \u001B[34m\u001B[1mDEBUG   \u001B[0m | \u001B[36mwattelse.data_provider.curebot_provider\u001B[0m:\u001B[36m_parse_entry\u001B[0m:\u001B[36m44\u001B[0m - \u001B[34m\u001B[1m----- Title: Le Royaume-Uni annonce la construction de nouvelles centrales à gaz, les écologistes voient rouge,\tDate: 2024-03-12 13:29:25\u001B[0m\n",
      "\u001B[32m2024-05-21 21:26:01.005\u001B[0m | \u001B[34m\u001B[1mDEBUG   \u001B[0m | \u001B[36mwattelse.data_provider.curebot_provider\u001B[0m:\u001B[36m_parse_entry\u001B[0m:\u001B[36m44\u001B[0m - \u001B[34m\u001B[1m----- Title: Décarbonation : corriger le système des garanties d'origine électriques,\tDate: 2024-03-04 10:04:59\u001B[0m\n",
      "\u001B[32m2024-05-21 21:26:01.008\u001B[0m | \u001B[34m\u001B[1mDEBUG   \u001B[0m | \u001B[36mwattelse.data_provider.curebot_provider\u001B[0m:\u001B[36m_parse_entry\u001B[0m:\u001B[36m44\u001B[0m - \u001B[34m\u001B[1m----- Title: Voici la nouvelle centrale solaire la plus puissante d’Europe,\tDate: 2024-04-11 14:35:32\u001B[0m\n",
      "\u001B[32m2024-05-21 21:26:01.011\u001B[0m | \u001B[34m\u001B[1mDEBUG   \u001B[0m | \u001B[36mwattelse.data_provider.curebot_provider\u001B[0m:\u001B[36m_parse_entry\u001B[0m:\u001B[36m44\u001B[0m - \u001B[34m\u001B[1m----- Title: Nucléaire : le casting d'EDF pour préparer le « chantier du siècle » des EPR 2,\tDate: 2024-04-01 08:25:07\u001B[0m\n",
      "\u001B[32m2024-05-21 21:26:01.013\u001B[0m | \u001B[34m\u001B[1mDEBUG   \u001B[0m | \u001B[36mwattelse.data_provider.curebot_provider\u001B[0m:\u001B[36m_parse_entry\u001B[0m:\u001B[36m44\u001B[0m - \u001B[34m\u001B[1m----- Title: EPR de Flamanville : l'ASN consulte pour la mise en service,\tDate: 2024-03-28 15:24:39\u001B[0m\n",
      "\u001B[32m2024-05-21 21:26:01.015\u001B[0m | \u001B[34m\u001B[1mDEBUG   \u001B[0m | \u001B[36mwattelse.data_provider.curebot_provider\u001B[0m:\u001B[36m_parse_entry\u001B[0m:\u001B[36m44\u001B[0m - \u001B[34m\u001B[1m----- Title: Tout savoir sur Montézic 2, le méga-chantier de stockage d’électricité qu’EDF veut lancer,\tDate: 2024-03-21 12:27:48\u001B[0m\n",
      "\u001B[32m2024-05-21 21:26:01.018\u001B[0m | \u001B[34m\u001B[1mDEBUG   \u001B[0m | \u001B[36mwattelse.data_provider.curebot_provider\u001B[0m:\u001B[36m_parse_entry\u001B[0m:\u001B[36m44\u001B[0m - \u001B[34m\u001B[1m----- Title: Projets de parcs éoliens en mer, les pêcheurs veulent être consultés,\tDate: 2024-03-19 15:59:34\u001B[0m\n",
      "\u001B[32m2024-05-21 21:26:01.021\u001B[0m | \u001B[34m\u001B[1mDEBUG   \u001B[0m | \u001B[36mwattelse.data_provider.curebot_provider\u001B[0m:\u001B[36m_parse_entry\u001B[0m:\u001B[36m44\u001B[0m - \u001B[34m\u001B[1m----- Title: Ce gigantesque datacenter d’Amazon sera directement alimenté par une centrale nucléaire,\tDate: 2024-03-12 16:12:12\u001B[0m\n",
      "\u001B[32m2024-05-21 21:26:01.024\u001B[0m | \u001B[34m\u001B[1mDEBUG   \u001B[0m | \u001B[36mwattelse.data_provider.curebot_provider\u001B[0m:\u001B[36m_parse_entry\u001B[0m:\u001B[36m44\u001B[0m - \u001B[34m\u001B[1m----- Title: Xlinks précise : Maroc-UK, c’est notre priorité,\tDate: 2024-03-12 14:30:21\u001B[0m\n",
      "\u001B[32m2024-05-21 21:26:01.027\u001B[0m | \u001B[34m\u001B[1mDEBUG   \u001B[0m | \u001B[36mwattelse.data_provider.curebot_provider\u001B[0m:\u001B[36m_parse_entry\u001B[0m:\u001B[36m44\u001B[0m - \u001B[34m\u001B[1m----- Title: Pourquoi Horizeo réduit la voilure de sa centrale solaire géante en Gironde,\tDate: 2024-03-05 15:37:45\u001B[0m\n",
      "\u001B[32m2024-05-21 21:26:01.029\u001B[0m | \u001B[34m\u001B[1mDEBUG   \u001B[0m | \u001B[36mwattelse.data_provider.curebot_provider\u001B[0m:\u001B[36m_parse_entry\u001B[0m:\u001B[36m44\u001B[0m - \u001B[34m\u001B[1m----- Title: EDF participe à « Neom », projet de mégalopole futuriste en Arabie saoudite, et se met des salariés à dos,\tDate: 2024-03-01 13:37:02\u001B[0m\n",
      "\u001B[32m2024-05-21 21:26:01.032\u001B[0m | \u001B[34m\u001B[1mDEBUG   \u001B[0m | \u001B[36mwattelse.data_provider.curebot_provider\u001B[0m:\u001B[36m_parse_entry\u001B[0m:\u001B[36m44\u001B[0m - \u001B[34m\u001B[1m----- Title: EDF à la manoeuvre sur les Step à l’international,\tDate: 2024-03-01 13:36:47\u001B[0m\n",
      "\u001B[32m2024-05-21 21:26:01.035\u001B[0m | \u001B[34m\u001B[1mDEBUG   \u001B[0m | \u001B[36mwattelse.data_provider.curebot_provider\u001B[0m:\u001B[36m_parse_entry\u001B[0m:\u001B[36m44\u001B[0m - \u001B[34m\u001B[1m----- Title: Extinction des rues la nuit à Bordeaux : plus d'un an après, la mairie se félicite des résultats,\tDate: 2024-04-12 14:53:20\u001B[0m\n",
      "\u001B[32m2024-05-21 21:26:01.041\u001B[0m | \u001B[34m\u001B[1mDEBUG   \u001B[0m | \u001B[36mwattelse.data_provider.curebot_provider\u001B[0m:\u001B[36m_parse_entry\u001B[0m:\u001B[36m44\u001B[0m - \u001B[34m\u001B[1m----- Title: Efficacité énergétique des organismes publics : l'État consulte avant de transposer la directive européenne,\tDate: 2024-04-08 15:20:22\u001B[0m\n",
      "\u001B[32m2024-05-21 21:26:01.044\u001B[0m | \u001B[34m\u001B[1mDEBUG   \u001B[0m | \u001B[36mwattelse.data_provider.curebot_provider\u001B[0m:\u001B[36m_parse_entry\u001B[0m:\u001B[36m44\u001B[0m - \u001B[34m\u001B[1m----- Title: Extraction minière : quels enjeux pour la transition ?,\tDate: 2024-04-02 06:40:31\u001B[0m\n",
      "\u001B[32m2024-05-21 21:26:01.047\u001B[0m | \u001B[34m\u001B[1mDEBUG   \u001B[0m | \u001B[36mwattelse.data_provider.curebot_provider\u001B[0m:\u001B[36m_parse_entry\u001B[0m:\u001B[36m44\u001B[0m - \u001B[34m\u001B[1m----- Title: EDF : les contrats incitatifs séduisent de plus en plus de clients,\tDate: 2024-03-28 16:26:17\u001B[0m\n",
      "\u001B[32m2024-05-21 21:26:01.049\u001B[0m | \u001B[34m\u001B[1mDEBUG   \u001B[0m | \u001B[36mwattelse.data_provider.curebot_provider\u001B[0m:\u001B[36m_parse_entry\u001B[0m:\u001B[36m44\u001B[0m - \u001B[34m\u001B[1m----- Title: Sobriété énergétique : l'Etat a économisé 150 millions d'euros en réduisant la consommation de ses bâtiments,\tDate: 2024-03-28 12:28:48\u001B[0m\n",
      "\u001B[32m2024-05-21 21:26:01.052\u001B[0m | \u001B[34m\u001B[1mDEBUG   \u001B[0m | \u001B[36mwattelse.data_provider.curebot_provider\u001B[0m:\u001B[36m_parse_entry\u001B[0m:\u001B[36m44\u001B[0m - \u001B[34m\u001B[1m----- Title: Une chercheuse du GIEC crée le Laboratoire mondial de la sobriété,\tDate: 2024-03-26 16:21:04\u001B[0m\n",
      "\u001B[32m2024-05-21 21:26:01.054\u001B[0m | \u001B[34m\u001B[1mDEBUG   \u001B[0m | \u001B[36mwattelse.data_provider.curebot_provider\u001B[0m:\u001B[36m_parse_entry\u001B[0m:\u001B[36m44\u001B[0m - \u001B[34m\u001B[1m----- Title: Les Français et la sobriété : une question d’euros plus que d’écologie,\tDate: 2024-03-25 08:14:48\u001B[0m\n",
      "\u001B[32m2024-05-21 21:26:01.061\u001B[0m | \u001B[34m\u001B[1mDEBUG   \u001B[0m | \u001B[36mwattelse.data_provider.curebot_provider\u001B[0m:\u001B[36m_parse_entry\u001B[0m:\u001B[36m44\u001B[0m - \u001B[34m\u001B[1m----- Title: Selon une étude, un logement social rénové consomme en moyenne 28% d'énergie en moins,\tDate: 2024-03-18 15:27:09\u001B[0m\n",
      "\u001B[32m2024-05-21 21:26:01.064\u001B[0m | \u001B[34m\u001B[1mDEBUG   \u001B[0m | \u001B[36mwattelse.data_provider.curebot_provider\u001B[0m:\u001B[36m_parse_entry\u001B[0m:\u001B[36m44\u001B[0m - \u001B[34m\u001B[1m----- Title: Saint-Étienne poursuit la modernisation de son éclairage,\tDate: 2024-03-12 10:27:21\u001B[0m\n",
      "\u001B[32m2024-05-21 21:26:01.067\u001B[0m | \u001B[34m\u001B[1mDEBUG   \u001B[0m | \u001B[36mwattelse.data_provider.curebot_provider\u001B[0m:\u001B[36m_parse_entry\u001B[0m:\u001B[36m44\u001B[0m - \u001B[34m\u001B[1m----- Title: Comprendre la sobriété énergétique et ses enjeux,\tDate: 2024-03-11 14:42:41\u001B[0m\n",
      "\u001B[32m2024-05-21 21:26:01.069\u001B[0m | \u001B[34m\u001B[1mDEBUG   \u001B[0m | \u001B[36mwattelse.data_provider.curebot_provider\u001B[0m:\u001B[36m_parse_entry\u001B[0m:\u001B[36m44\u001B[0m - \u001B[34m\u001B[1m----- Title: Les Français sont pour la « sobriété » mais pas pour des raisons écologiques, selon cette étude de l’Ademe,\tDate: 2024-03-08 11:22:41\u001B[0m\n",
      "\u001B[32m2024-05-21 21:26:01.075\u001B[0m | \u001B[34m\u001B[1mDEBUG   \u001B[0m | \u001B[36mwattelse.data_provider.curebot_provider\u001B[0m:\u001B[36m_parse_entry\u001B[0m:\u001B[36m44\u001B[0m - \u001B[34m\u001B[1m----- Title: Gaz russe : la France championne d'Europe des importations malgré la guerre,\tDate: 2024-04-12 08:39:32\u001B[0m\n",
      "\u001B[32m2024-05-21 21:26:01.078\u001B[0m | \u001B[34m\u001B[1mDEBUG   \u001B[0m | \u001B[36mwattelse.data_provider.curebot_provider\u001B[0m:\u001B[36m_parse_entry\u001B[0m:\u001B[36m44\u001B[0m - \u001B[34m\u001B[1m----- Title: Importations de gaz de schiste en Europe : nouvelle dépendance létale pour le climat,\tDate: 2024-03-05 21:26:56\u001B[0m\n",
      "\u001B[32m2024-05-21 21:26:01.081\u001B[0m | \u001B[34m\u001B[1mDEBUG   \u001B[0m | \u001B[36mwattelse.data_provider.curebot_provider\u001B[0m:\u001B[36m_parse_entry\u001B[0m:\u001B[36m44\u001B[0m - \u001B[34m\u001B[1m----- Title: Il s’agit d’avancer de façon coordonnée sur des enjeux de sécurité des réseaux, de collaborer de façon cohérente sur le développement des infrastructures de transport.,\tDate: 2024-03-01 10:46:14\u001B[0m\n",
      "\u001B[32m2024-05-21 21:26:01.083\u001B[0m | \u001B[34m\u001B[1mDEBUG   \u001B[0m | \u001B[36mwattelse.data_provider.curebot_provider\u001B[0m:\u001B[36m_parse_entry\u001B[0m:\u001B[36m44\u001B[0m - \u001B[34m\u001B[1m----- Title: Contre la menace russe, six pays nouent un « pacte » pour protéger les infrastructures de la mer du Nord,\tDate: 2024-04-18 07:45:25\u001B[0m\n",
      "\u001B[32m2024-05-21 21:26:01.086\u001B[0m | \u001B[34m\u001B[1mDEBUG   \u001B[0m | \u001B[36mwattelse.data_provider.curebot_provider\u001B[0m:\u001B[36m_parse_entry\u001B[0m:\u001B[36m44\u001B[0m - \u001B[34m\u001B[1m----- Title: En Moldavie, une nouvelle ligne électrique pour s'émanciper de Moscou,\tDate: 2024-04-09 10:53:09\u001B[0m\n",
      "\u001B[32m2024-05-21 21:26:01.089\u001B[0m | \u001B[34m\u001B[1mDEBUG   \u001B[0m | \u001B[36mwattelse.data_provider.curebot_provider\u001B[0m:\u001B[36m_parse_entry\u001B[0m:\u001B[36m44\u001B[0m - \u001B[34m\u001B[1m----- Title: Élections européennes : une ONG évalue les \"bons\" et \"mauvais\" élèves de l'environnement au Parlement,\tDate: 2024-03-20 06:25:34\u001B[0m\n",
      "\u001B[32m2024-05-21 21:26:01.095\u001B[0m | \u001B[34m\u001B[1mDEBUG   \u001B[0m | \u001B[36mwattelse.data_provider.curebot_provider\u001B[0m:\u001B[36m_parse_entry\u001B[0m:\u001B[36m44\u001B[0m - \u001B[34m\u001B[1m----- Title: Des think-tanks aux cahiers régionaux : TotalEnergies réunit les acteurs territoriaux sur les enjeux de l’énergie,\tDate: 2024-03-08 10:57:57\u001B[0m\n"
     ]
    }
   ],
   "execution_count": 85
  },
  {
   "metadata": {
    "ExecuteTime": {
     "end_time": "2024-05-21T19:26:10.227115Z",
     "start_time": "2024-05-21T19:26:10.222798Z"
    }
   },
   "cell_type": "code",
   "source": [
    "len(articles)\n",
    "\n"
   ],
   "id": "35d63ab115d45ca0",
   "outputs": [
    {
     "data": {
      "text/plain": [
       "52"
      ]
     },
     "execution_count": 87,
     "metadata": {},
     "output_type": "execute_result"
    }
   ],
   "execution_count": 87
  },
  {
   "metadata": {
    "ExecuteTime": {
     "end_time": "2024-05-21T19:27:01.021401Z",
     "start_time": "2024-05-21T19:27:01.018306Z"
    }
   },
   "cell_type": "code",
   "source": "output_file = '/home/jerome/shared/curebot_articles.json'",
   "id": "cd1e15ca55c99788",
   "outputs": [],
   "execution_count": 88
  },
  {
   "metadata": {
    "ExecuteTime": {
     "end_time": "2024-05-21T19:27:11.629747Z",
     "start_time": "2024-05-21T19:27:11.595007Z"
    }
   },
   "cell_type": "code",
   "source": "provider.store_articles(articles, output_file)",
   "id": "ca0e88d25f0d84c3",
   "outputs": [
    {
     "name": "stderr",
     "output_type": "stream",
     "text": [
      "\u001B[32m2024-05-21 21:27:11.626\u001B[0m | \u001B[1mINFO    \u001B[0m | \u001B[36mwattelse.data_provider.data_provider\u001B[0m:\u001B[36mstore_articles\u001B[0m:\u001B[36m100\u001B[0m - \u001B[1mData stored to /home/jerome/shared/curebot_articles.json [52 entries].\u001B[0m\n"
     ]
    }
   ],
   "execution_count": 89
  },
  {
   "metadata": {},
   "cell_type": "code",
   "outputs": [],
   "execution_count": null,
   "source": "",
   "id": "f1cdbd803febdafc"
  }
 ],
 "metadata": {
  "kernelspec": {
   "display_name": "Python 3",
   "language": "python",
   "name": "python3"
  },
  "language_info": {
   "codemirror_mode": {
    "name": "ipython",
    "version": 2
   },
   "file_extension": ".py",
   "mimetype": "text/x-python",
   "name": "python",
   "nbconvert_exporter": "python",
   "pygments_lexer": "ipython2",
   "version": "2.7.6"
  }
 },
 "nbformat": 4,
 "nbformat_minor": 5
}
