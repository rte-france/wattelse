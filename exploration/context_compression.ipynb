{
 "cells": [
  {
   "cell_type": "markdown",
   "id": "e3438248-6910-402a-901b-795bdb993991",
   "metadata": {},
   "source": [
    "# Tests of context compression"
   ]
  },
  {
   "cell_type": "code",
   "id": "b62e66852d43dbb7",
   "metadata": {
    "ExecuteTime": {
     "end_time": "2024-08-28T12:19:28.438343Z",
     "start_time": "2024-08-28T12:19:28.433121Z"
    }
   },
   "source": [
    "import time\n",
    "from wattelse.chatbot.backend.rag_backend import RAGBackEnd\n"
   ],
   "outputs": [],
   "execution_count": 14
  },
  {
   "cell_type": "code",
   "id": "4fd29c9f-d180-411a-aa7a-7f26d4517c62",
   "metadata": {
    "ExecuteTime": {
     "end_time": "2024-08-28T09:53:14.705077Z",
     "start_time": "2024-08-28T09:53:14.695574Z"
    }
   },
   "source": [
    "DOC_REPO = \"test_jp\""
   ],
   "outputs": [],
   "execution_count": 2
  },
  {
   "cell_type": "markdown",
   "id": "8888b8cd-993d-4773-8999-850eecb8e260",
   "metadata": {},
   "source": [
    "# Required configurations\n",
    "\n",
    "if executed on a standard PC, be sure that :\n",
    "-  `embedding_api.cfg` is properly configured (ex. that it contains a pointer to the \"right\" host, for example `host=10.132.6.110`\n"
   ]
  },
  {
   "cell_type": "code",
   "id": "4937436f-7f85-455a-b6ec-eff4016943cf",
   "metadata": {
    "ExecuteTime": {
     "end_time": "2024-08-28T09:53:15.754722Z",
     "start_time": "2024-08-28T09:53:14.748605Z"
    }
   },
   "source": [
    "backend = RAGBackEnd(DOC_REPO)"
   ],
   "outputs": [
    {
     "name": "stderr",
     "output_type": "stream",
     "text": [
      "\u001B[32m2024-08-28 11:53:14.751\u001B[0m | \u001B[1mINFO    \u001B[0m | \u001B[36mwattelse.chatbot.backend.rag_backend\u001B[0m:\u001B[36m__init__\u001B[0m:\u001B[36m129\u001B[0m - \u001B[1m[Group: test_jp] Initialization of chatbot backend\u001B[0m\n"
     ]
    }
   ],
   "execution_count": 3
  },
  {
   "cell_type": "code",
   "id": "27adc56c71aad1d8",
   "metadata": {
    "ExecuteTime": {
     "end_time": "2024-08-28T09:53:16.450312Z",
     "start_time": "2024-08-28T09:53:16.444637Z"
    }
   },
   "source": [
    "question_list_conso = {\n",
    "    \"customer\":  \"Quel est le nom du client ?\",\n",
    "    \"address\": \"Quelle est l'adresse du site de l'installation à raccorder (extraites seulement les valeurs d'adresse) ?\",\n",
    "    \"date\": \"Quelle est la date de mise à disposition du raccordement souhaitée ? Répondre uniquement sous la forme JJ/MM/AAAA.\",\n",
    "    \"request_pracc\": \"Quelle est la demande en puissance du client ? Quelle est la puissance maximale de soutirage demandée ?\",\n",
    "    \"request_pcc\": \"Quelle est la puissance de court circuit ? Si l'information n'est pas fournie, répondez 'Je ne sais pas'\",\n",
    "    \"request_additional_power_supply\": \"Quelles est la puissance de l’alimentation supplémentaire n°1 demandée ? Si l'information n'est pas fournie, répondez 'Je ne sais pas'\",\n",
    "}\n",
    "\n",
    "question_list_prod = {\n",
    "    \"customer\":  \"Quel est le nom du client ?\",\n",
    "    \"address\": \"Quelle est l'emplacement du point de raccordement (extraites seulement les valeurs d'adresse) ?\",\n",
    "    \"lat_lon\": \"Quelle sont la longitude et la latitude du point de raccordement ? Répondre uniquement au format json.\",\n",
    "    \"date\":  \"Quelle est la date de mise à disposition du raccordement souhaitée ? Répondre uniquement sous la forme JJ/MM/AAAA.\",\n",
    "    \"request_pracc\": \"Quelle est la demande en puissance du client ?\",\n",
    "    \"request_pinjection\": \"Quelle est la puissance de raccordement à l'injection demandée ?\",\n",
    "    \"request_psoutirage\": \"Quelle est la puissance maximale de soutirage demandée ?\",\n",
    "}"
   ],
   "outputs": [],
   "execution_count": 4
  },
  {
   "cell_type": "code",
   "id": "639b05aed6dd713d",
   "metadata": {
    "ExecuteTime": {
     "end_time": "2024-08-28T09:53:16.485106Z",
     "start_time": "2024-08-28T09:53:16.479502Z"
    }
   },
   "source": [
    "fiche_D1A = \"20230921 - Fiche D1 - EE France - Projet La Mottelette - Saint-Thibault (60).pdf\"\n",
    "fiche_D1B = \"Demande d'Etude Explo - HDF.pdf\"\n",
    "fiche_D1C = \"QairPE-H2-Tréport-Fiche D1-30MW.docx\""
   ],
   "outputs": [],
   "execution_count": 5
  },
  {
   "cell_type": "code",
   "id": "5eaae24d-ce3e-4cd4-a106-fb07bd440963",
   "metadata": {
    "ExecuteTime": {
     "end_time": "2024-08-28T09:53:16.601224Z",
     "start_time": "2024-08-28T09:53:16.592086Z"
    }
   },
   "source": [
    "def pretty_print(answer):\n",
    "    s = f\"\\n{'*' * 100}\\nANSWER\\n\\n\" +answer[\"answer\"] + f\"\\n{'*' * 100}\\n\"\n",
    "    s += f\"\\n{'-' * 100}\\n\".join(\n",
    "            [f\"Document {i+1}:\\n\\n\" + d[\"content\"] for i, d in enumerate(answer[\"relevant_extracts\"])]\n",
    "        )\n",
    "    \n",
    "    return s"
   ],
   "outputs": [],
   "execution_count": 6
  },
  {
   "cell_type": "code",
   "id": "007f8f4d-c986-4e42-8dea-dffb1e1a9b7c",
   "metadata": {
    "ExecuteTime": {
     "end_time": "2024-08-28T09:53:17.438515Z",
     "start_time": "2024-08-28T09:53:16.869978Z"
    }
   },
   "source": "backend.get_available_docs()",
   "outputs": [
    {
     "data": {
      "text/plain": [
       "['20230921 - Fiche D1 - EE France - Projet La Mottelette - Saint-Thibault (60).pdf',\n",
       " \"Demande d'Etude Explo - HDF.pdf\",\n",
       " 'QairPE-H2-Tréport-Fiche D1-30MW.docx']"
      ]
     },
     "execution_count": 7,
     "metadata": {},
     "output_type": "execute_result"
    }
   ],
   "execution_count": 7
  },
  {
   "cell_type": "code",
   "id": "78673f5266961b77",
   "metadata": {
    "ExecuteTime": {
     "end_time": "2024-08-28T09:53:17.491203Z",
     "start_time": "2024-08-28T09:53:17.484767Z"
    }
   },
   "source": [
    "# https://python.langchain.com/v0.1/docs/modules/data_connection/retrievers/contextual_compression/\n",
    "# https://blog.langchain.dev/improving-document-retrieval-with-contextual-compression/"
   ],
   "outputs": [],
   "execution_count": 8
  },
  {
   "cell_type": "code",
   "id": "e61ffcb4-581e-4cbb-b556-ffc3cee46db1",
   "metadata": {
    "ExecuteTime": {
     "end_time": "2024-08-28T12:24:52.742855Z",
     "start_time": "2024-08-28T12:24:52.739050Z"
    }
   },
   "source": [
    "def query_doc(question_list, fiche_D1):\n",
    "    \n",
    "    responses = {}\n",
    "    start = time.time()\n",
    "    \n",
    "    for key, q in question_list.items():\n",
    "        answer = backend.query_rag(q, selected_files=[fiche_D1])\n",
    "        responses[key] = pretty_print(answer)\n",
    "        print(responses[key])\n",
    "    \n",
    "    print(f\"\\n\\n*** Execution time: {time.time() - start} seconds\")\n",
    "   # return responses"
   ],
   "outputs": [],
   "execution_count": 22
  },
  {
   "cell_type": "markdown",
   "id": "3b8fc12e-7e14-44d9-b742-9576eccc415b",
   "metadata": {},
   "source": [
    "# Tests without context compression"
   ]
  },
  {
   "metadata": {
    "ExecuteTime": {
     "end_time": "2024-08-28T12:24:25.112536Z",
     "start_time": "2024-08-28T12:24:25.108287Z"
    }
   },
   "cell_type": "code",
   "source": "backend.use_context_compression = False\n",
   "id": "513daaade3b9aa6c",
   "outputs": [],
   "execution_count": 19
  },
  {
   "metadata": {
    "ExecuteTime": {
     "end_time": "2024-08-28T12:24:25.812450Z",
     "start_time": "2024-08-28T12:24:25.807417Z"
    }
   },
   "cell_type": "code",
   "source": [
    "question_list = {\n",
    "    \"customer\":  \"Quel est le nom du client ?\",\n",
    "    \"address\": \"Quelle est l'adresse du site de l'installation à raccorder (extraites seulement les valeurs d'adresse) ?\",\n",
    "    \"request_pracc\": \"Quelle est la demande en puissance du client ? Quelle est la puissance maximale de soutirage demandée ?\",\n",
    "}"
   ],
   "id": "7a1962b163873027",
   "outputs": [],
   "execution_count": 20
  },
  {
   "cell_type": "code",
   "id": "0a2b02be-1194-4f82-8ad3-b0ba054ee3fa",
   "metadata": {
    "ExecuteTime": {
     "end_time": "2024-08-28T12:24:32.119122Z",
     "start_time": "2024-08-28T12:24:27.406772Z"
    }
   },
   "source": "query_doc(question_list, fiche_D1A)",
   "outputs": [
    {
     "name": "stderr",
     "output_type": "stream",
     "text": [
      "\u001B[32m2024-08-28 14:24:27.408\u001B[0m | \u001B[34m\u001B[1mDEBUG   \u001B[0m | \u001B[36mwattelse.chatbot.backend.rag_backend\u001B[0m:\u001B[36mquery_rag\u001B[0m:\u001B[36m371\u001B[0m - \u001B[34m\u001B[1mCalling RAG chain for question : \"Quel est le nom du client ?\"...\u001B[0m\n",
      "\u001B[32m2024-08-28 14:24:27.440\u001B[0m | \u001B[34m\u001B[1mDEBUG   \u001B[0m | \u001B[36mwattelse.api.embedding.client_embedding_api\u001B[0m:\u001B[36membed_query\u001B[0m:\u001B[36m38\u001B[0m - \u001B[34m\u001B[1mCalling EmbeddingAPI using model: OrdalieTech/Solon-embeddings-large-0.1\u001B[0m\n",
      "\u001B[32m2024-08-28 14:24:27.443\u001B[0m | \u001B[34m\u001B[1mDEBUG   \u001B[0m | \u001B[36mwattelse.api.embedding.client_embedding_api\u001B[0m:\u001B[36membed_query\u001B[0m:\u001B[36m39\u001B[0m - \u001B[34m\u001B[1mComputing embeddings...\u001B[0m\n",
      "\u001B[32m2024-08-28 14:24:27.525\u001B[0m | \u001B[34m\u001B[1mDEBUG   \u001B[0m | \u001B[36mwattelse.api.embedding.client_embedding_api\u001B[0m:\u001B[36membed_query\u001B[0m:\u001B[36m43\u001B[0m - \u001B[34m\u001B[1mComputing embeddings done\u001B[0m\n",
      "\u001B[32m2024-08-28 14:24:28.128\u001B[0m | \u001B[34m\u001B[1mDEBUG   \u001B[0m | \u001B[36mwattelse.chatbot.backend.rag_backend\u001B[0m:\u001B[36mquery_rag\u001B[0m:\u001B[36m371\u001B[0m - \u001B[34m\u001B[1mCalling RAG chain for question : \"Quelle est l'adresse du site de l'installation à raccorder (extraites seulement les valeurs d'adresse) ?\"...\u001B[0m\n",
      "\u001B[32m2024-08-28 14:24:28.143\u001B[0m | \u001B[34m\u001B[1mDEBUG   \u001B[0m | \u001B[36mwattelse.api.embedding.client_embedding_api\u001B[0m:\u001B[36membed_query\u001B[0m:\u001B[36m38\u001B[0m - \u001B[34m\u001B[1mCalling EmbeddingAPI using model: OrdalieTech/Solon-embeddings-large-0.1\u001B[0m\n",
      "\u001B[32m2024-08-28 14:24:28.147\u001B[0m | \u001B[34m\u001B[1mDEBUG   \u001B[0m | \u001B[36mwattelse.api.embedding.client_embedding_api\u001B[0m:\u001B[36membed_query\u001B[0m:\u001B[36m39\u001B[0m - \u001B[34m\u001B[1mComputing embeddings...\u001B[0m\n",
      "\u001B[32m2024-08-28 14:24:28.232\u001B[0m | \u001B[34m\u001B[1mDEBUG   \u001B[0m | \u001B[36mwattelse.api.embedding.client_embedding_api\u001B[0m:\u001B[36membed_query\u001B[0m:\u001B[36m43\u001B[0m - \u001B[34m\u001B[1mComputing embeddings done\u001B[0m\n"
     ]
    },
    {
     "name": "stdout",
     "output_type": "stream",
     "text": [
      "\n",
      "****************************************************************************************************\n",
      "ANSWER\n",
      "\n",
      "Le nom du client est European Energy France.\n",
      "****************************************************************************************************\n",
      "Document 1:\n",
      "\n",
      "INFORMATIONS SUR LE DEMANDEUR DU RACCORDEMENT Nom de la société : EUROPEAN ENERGY FRANCE n° SIREN : 913794707 Nom et fonction de l’interlocuteur : Emmanuel Fourmaux - Responsable Développement Régional Adresse Numéro / rue 5 PLACE DES COUREAULEURS Code postal/ ville 17000 LA ROCHELLE Pays FRANCE Téléphone/fax +33 (0)6 70 29 51 71 Courriel efo@europeanenergy.com Le demandeur est Producteur Demandeur du raccordement agissant en vertu d’un acte de désignation par le Groupement multi-producteurs (GMP) Veuillez compléter pour chaque installation raccordée le « III. Informations sur le Producteur ».\n"
     ]
    },
    {
     "name": "stderr",
     "output_type": "stream",
     "text": [
      "\u001B[32m2024-08-28 14:24:30.112\u001B[0m | \u001B[34m\u001B[1mDEBUG   \u001B[0m | \u001B[36mwattelse.chatbot.backend.rag_backend\u001B[0m:\u001B[36mquery_rag\u001B[0m:\u001B[36m371\u001B[0m - \u001B[34m\u001B[1mCalling RAG chain for question : \"Quelle est la demande en puissance du client ? Quelle est la puissance maximale de soutirage demandée ?\"...\u001B[0m\n",
      "\u001B[32m2024-08-28 14:24:30.131\u001B[0m | \u001B[34m\u001B[1mDEBUG   \u001B[0m | \u001B[36mwattelse.api.embedding.client_embedding_api\u001B[0m:\u001B[36membed_query\u001B[0m:\u001B[36m38\u001B[0m - \u001B[34m\u001B[1mCalling EmbeddingAPI using model: OrdalieTech/Solon-embeddings-large-0.1\u001B[0m\n",
      "\u001B[32m2024-08-28 14:24:30.133\u001B[0m | \u001B[34m\u001B[1mDEBUG   \u001B[0m | \u001B[36mwattelse.api.embedding.client_embedding_api\u001B[0m:\u001B[36membed_query\u001B[0m:\u001B[36m39\u001B[0m - \u001B[34m\u001B[1mComputing embeddings...\u001B[0m\n",
      "\u001B[32m2024-08-28 14:24:30.222\u001B[0m | \u001B[34m\u001B[1mDEBUG   \u001B[0m | \u001B[36mwattelse.api.embedding.client_embedding_api\u001B[0m:\u001B[36membed_query\u001B[0m:\u001B[36m43\u001B[0m - \u001B[34m\u001B[1mComputing embeddings done\u001B[0m\n"
     ]
    },
    {
     "name": "stdout",
     "output_type": "stream",
     "text": [
      "\n",
      "****************************************************************************************************\n",
      "ANSWER\n",
      "\n",
      "La adresse du site de l'installation à raccorder est : 5 PLACE DES COUREAULEURS, 17000 LA ROCHELLE.\n",
      "****************************************************************************************************\n",
      "Document 1:\n",
      "\n",
      "] °SIRET Type d’installation Production ou Consommation Type de modification Préciser la modification envisagée Par exemple : ajout d’une nouvelle unité de production, modification d’une unité de production existante,… Adresse Numéro / rue Code postal/ ville II- DONNEES TECHNIQUES AU POINT DE RACCORDEMENT Valeur (unité) Catég orie Statut ferme ou révisable Complément d’informations Caractéristiques essentielles de la Demande Date souhaitée de mise à disposition du raccordement MM/AAAA Date souhaitée de mise en service de l’installation de production JJ/MM/AAAA Emplacement du point de raccordement Joindre un extrait cadastral des parcelles concernées et indiquer la position envisagée du point de raccordement,\n",
      "----------------------------------------------------------------------------------------------------\n",
      "Document 2:\n",
      "\n",
      "Informations sur le Producteur ». L’acte de désignation est à transmettre avec la demande de raccordement. Consommateur (en cas d’ajout ou de modification d’une unité de production sur un site de consommation) Veuillez compléter pour chaque installation raccordée le « III. Informations sur le Producteur ». En cas de mandat, Veuillez compléter le « IV. Informations sur le Mandataire ». Si la demande fait suite à un appel d’offres avec entrée en file d’attente, veuillez préciser : .........................................\n",
      "----------------------------------------------------------------------------------------------------\n",
      "Document 3:\n",
      "\n",
      "ANNEXE 1 : EN CAS DE RACCORDEMENT D’UNE NOUVELLE INSTALLATION DE PRODUCTION ANNEXE 1 : EN CAS DE RACCORDEMENT D’UNE NOUVELLE INSTALLATION DE PRODUCTION * * à renseigner pour chaque installation de production en cas de plusieurs installations de production raccordées derrière un point unique au réseau. I. INFORMATIONS SUR L’INSTALLATION DE PRODUCTION A RACCORDER Nom du site de production– [le cas échéant,] n° SIRET LA MOTTELETTE Adresse Numéro / rue Code postal/ ville 60210 SAINT-THIBAULT II.\n",
      "----------------------------------------------------------------------------------------------------\n",
      "Document 4:\n",
      "\n",
      "ANNEXE 2 : EN CAS DE MODIFICATION D’UNE INSTALLATION EXISTANTE ANNEXE 2 : EN CAS DE MODIFICATION D’UNE INSTALLATION RACCORDEE AU RESEAU* * à renseigner pour chaque unité ou installation de production ajoutée ou modifiée sur un site de consommation ou de production existant. I- INFORMATIONS SUR L’INSTALLATION MODIFIEE Nom du site de l’installation – [le cas échéant,] °SIRET Type d’installation Production ou Consommation Type de modification Préciser la modification envisagée Par exemple : ajout d’une nouvelle unité de production, modification d’une unité de production existante,\n",
      "----------------------------------------------------------------------------------------------------\n",
      "Document 5:\n",
      "\n",
      "extrait au 1/25 000 Position du ou des éléments modifiés/ajoutés Joindre un extrait cadastral des parcelles concernées, indiquer la position envisagée des éléments modifiés et coordonnées GPS si possible Caractéristiques initiales (avant modification) Puissance installée de l’Installation* * La puissance installée d'une installation de production s'entend comme la somme des puissances actives unitaires maximales des machines électrogènes susceptibles de fonctionner simultanément disposant d’un point de raccordement unique.\n",
      "----------------------------------------------------------------------------------------------------\n",
      "Document 6:\n",
      "\n",
      "INFORMATIONS SUR LE DEMANDEUR DU RACCORDEMENT Nom de la société : EUROPEAN ENERGY FRANCE n° SIREN : 913794707 Nom et fonction de l’interlocuteur : Emmanuel Fourmaux - Responsable Développement Régional Adresse Numéro / rue 5 PLACE DES COUREAULEURS Code postal/ ville 17000 LA ROCHELLE Pays FRANCE Téléphone/fax +33 (0)6 70 29 51 71 Courriel efo@europeanenergy.com Le demandeur est Producteur Demandeur du raccordement agissant en vertu d’un acte de désignation par le Groupement multi-producteurs (GMP) Veuillez compléter pour chaque installation raccordée le « III. Informations sur le Producteur ».\n",
      "----------------------------------------------------------------------------------------------------\n",
      "Document 7:\n",
      "\n",
      "Fiche de collecte de données (D1) III. INFORMATIONS SUR LE(S) PRODUCTEUR(S)* * à renseigner pour chaque installation de production en cas de plusieurs installations de production raccordées derrière un point unique au réseau. * à renseigner pour chaque unité ou installation de production ajoutée ou modifiée sur un site de consommation. Nom de la société EUROPEAN ENERGY FRANCE n° SIREN 913794707 Nom et fonction de l’interlocuteur Emmanuel Fourmaux - Responsable Développement Régional Adresse Numéro / rue 5 PLACE DES COUREAULEURS Code postal/ ville 17000 LA ROCHELLE Pays FRANCE Téléphone/fax +33 (0)6 70 29 51 71 Courriel efo@europeanenergy.com IV.\n",
      "----------------------------------------------------------------------------------------------------\n",
      "Document 8:\n",
      "\n",
      "EN CAS DE MANDAT, INFORMATIONS SUR LE MANDATAIRE* * joindre le mandat à la demande de raccordement Nom de la société n° SIREN Nom et fonction de l’interlocuteur Adresse Numéro / rue Code postal/ ville Pays Téléphone/fax Courriel Date Nom et prénom du signataire Signature 21 Septembre 2023 Emmanuel Fourmaux Page 2 sur 6\n",
      "----------------------------------------------------------------------------------------------------\n",
      "Document 9:\n",
      "\n",
      "DONNEES TECHNIQUES POUR LE RACCORDEMENT DE L’INSTALLATION DE PRODUCTION Valeur (unité) Catég orie Statut ferme ou révisable Complément d’informations Caractéristiques essentielles de la Demande Date souhaitée de mise à disposition du raccordement 10/2026 Puissance installée de l’Installation* *La puissance installée d'une installation de production (Pinstallée) s'entend comme la somme des puissances actives unitaires maximales des machines électrogènes susceptibles de fonctionner simultanément disposant d’un même point de raccordement (article 3 de l’arrêté 2019).\n",
      "----------------------------------------------------------------------------------------------------\n",
      "Document 10:\n",
      "\n",
      "Fiche de collecte de données (D1) DEMANDE D’ETUDE EXPLORATOIRE pour le raccordement, l’ajout ou la modification d’une unité de production INFORMATIONS GENERALES I. TYPE DE DEMANDE Nouveau raccordement Veuillez renseigner les informations générales et l’annexe 1 Modification de l’installation raccordée Veuillez renseigner les informations générales et l’annexe 2 II.\n",
      "\n",
      "****************************************************************************************************\n",
      "ANSWER\n",
      "\n",
      "La demande en puissance du client est de 45 MW CR. La puissance maximale de soutirage demandée est également de 45 MW CR.\n",
      "****************************************************************************************************\n",
      "Document 1:\n",
      "\n",
      "MW CR Puissance maximale de soutirage (au niveau du point de raccordement de l’installation ou du groupement) . MW/MVA CR Données techniques complémentaires relatives à la modification Unité(s) de production synchrone Texte ICC - Description de l’unité (des unités) synchrone(s) modifiée(s) /ajoutée(s) dans l’installation - Préciser notamment le type d’énergie primaire Parc non synchrone de générateur Texte ICC - Description du parc non synchrone modifié /ajouté dans l’installation - Préciser notamment le type d’énergie primaire Tension primaire et secondaire du transformateur - Préciser le type du transformateur (si connu) : régleur à vide ou en charge.\n",
      "----------------------------------------------------------------------------------------------------\n",
      "Document 2:\n",
      "\n",
      "* dans le cas du groupement, il s’agit de la somme des P installée des installations du groupement ........ MW CR/ ICC Puissance de raccordement à l’injection ou Pracc Injection* : * Puissance servant à dimensionner le raccordement de l’Installation ou du groupement au point de raccordement ........ MW CR Puissance maximale de soutirage (au niveau du point de raccordement de l’installation ou du groupement) ........ MW/MVA CR Page 5 sur 6\n",
      "----------------------------------------------------------------------------------------------------\n",
      "Document 3:\n",
      "\n",
      "*Dans le cas de plusieurs installations de production raccordées en un point unique de raccordement, il s’agit de la somme des Pinstallées desdites installations. 45 MW CR/ICC Puissance de raccordement à l’injection ou Pracc Injection* : *Puissance servant à dimensionner le raccordement de l’Installation (ou du groupement) au point de raccordement 45 MW CR Puissance maximale de soutirage (au niveau du point de raccordement de l’installation (ou du groupement)) 180 kW CR Emplacement du point de raccordement Cf. Annexe cartographie parcelle ZD 8 sur la commune de Saint-Thibault longitude : / latitude : Position de l’unité de production (ou des unités de production Page 3 sur 6\n",
      "----------------------------------------------------------------------------------------------------\n",
      "Document 4:\n",
      "\n",
      "ANNEXE 2 : EN CAS DE MODIFICATION D’UNE INSTALLATION EXISTANTE Caractéristiques finales (après modification) Puissance installée de l’Installation* CR/IC * La puissance installée d'une installation de production s'entend comme la somme des puissances actives unitaires maximales des machines électrogènes susceptibles de fonctionner simultanément disposant d’un point de raccordement unique.  MW C * dans le cas du groupement, il s’agit de la somme des Pinstallée des installations du groupement Puissance de raccordement à l’injection ou Pracc Injection* : * Puissance servant à dimensionner le raccordement de l’Installation ou du groupement au point de raccordement .\n",
      "----------------------------------------------------------------------------------------------------\n",
      "Document 5:\n",
      "\n",
      "DONNEES TECHNIQUES POUR LE RACCORDEMENT DE L’INSTALLATION DE PRODUCTION Valeur (unité) Catég orie Statut ferme ou révisable Complément d’informations Caractéristiques essentielles de la Demande Date souhaitée de mise à disposition du raccordement 10/2026 Puissance installée de l’Installation* *La puissance installée d'une installation de production (Pinstallée) s'entend comme la somme des puissances actives unitaires maximales des machines électrogènes susceptibles de fonctionner simultanément disposant d’un même point de raccordement (article 3 de l’arrêté 2019).\n",
      "----------------------------------------------------------------------------------------------------\n",
      "Document 6:\n",
      "\n",
      "extrait au 1/25 000 Position du ou des éléments modifiés/ajoutés Joindre un extrait cadastral des parcelles concernées, indiquer la position envisagée des éléments modifiés et coordonnées GPS si possible Caractéristiques initiales (avant modification) Puissance installée de l’Installation* * La puissance installée d'une installation de production s'entend comme la somme des puissances actives unitaires maximales des machines électrogènes susceptibles de fonctionner simultanément disposant d’un point de raccordement unique.\n",
      "----------------------------------------------------------------------------------------------------\n",
      "Document 7:\n",
      "\n",
      "INFORMATIONS SUR LE DEMANDEUR DU RACCORDEMENT Nom de la société : EUROPEAN ENERGY FRANCE n° SIREN : 913794707 Nom et fonction de l’interlocuteur : Emmanuel Fourmaux - Responsable Développement Régional Adresse Numéro / rue 5 PLACE DES COUREAULEURS Code postal/ ville 17000 LA ROCHELLE Pays FRANCE Téléphone/fax +33 (0)6 70 29 51 71 Courriel efo@europeanenergy.com Le demandeur est Producteur Demandeur du raccordement agissant en vertu d’un acte de désignation par le Groupement multi-producteurs (GMP) Veuillez compléter pour chaque installation raccordée le « III. Informations sur le Producteur ».\n",
      "----------------------------------------------------------------------------------------------------\n",
      "Document 8:\n",
      "\n",
      "] °SIRET Type d’installation Production ou Consommation Type de modification Préciser la modification envisagée Par exemple : ajout d’une nouvelle unité de production, modification d’une unité de production existante,… Adresse Numéro / rue Code postal/ ville II- DONNEES TECHNIQUES AU POINT DE RACCORDEMENT Valeur (unité) Catég orie Statut ferme ou révisable Complément d’informations Caractéristiques essentielles de la Demande Date souhaitée de mise à disposition du raccordement MM/AAAA Date souhaitée de mise en service de l’installation de production JJ/MM/AAAA Emplacement du point de raccordement Joindre un extrait cadastral des parcelles concernées et indiquer la position envisagée du point de raccordement,\n",
      "----------------------------------------------------------------------------------------------------\n",
      "Document 9:\n",
      "\n",
      "Informations sur le Producteur ». L’acte de désignation est à transmettre avec la demande de raccordement. Consommateur (en cas d’ajout ou de modification d’une unité de production sur un site de consommation) Veuillez compléter pour chaque installation raccordée le « III. Informations sur le Producteur ». En cas de mandat, Veuillez compléter le « IV. Informations sur le Mandataire ». Si la demande fait suite à un appel d’offres avec entrée en file d’attente, veuillez préciser : .........................................\n",
      "----------------------------------------------------------------------------------------------------\n",
      "Document 10:\n",
      "\n",
      "Fiche de collecte de données (D1) DEMANDE D’ETUDE EXPLORATOIRE pour le raccordement, l’ajout ou la modification d’une unité de production INFORMATIONS GENERALES I. TYPE DE DEMANDE Nouveau raccordement Veuillez renseigner les informations générales et l’annexe 1 Modification de l’installation raccordée Veuillez renseigner les informations générales et l’annexe 2 II.\n",
      "*** Execution time: 4.709678411483765 seconds\n"
     ]
    }
   ],
   "execution_count": 21
  },
  {
   "metadata": {
    "ExecuteTime": {
     "end_time": "2024-08-28T09:53:26.718210Z",
     "start_time": "2024-08-28T09:53:26.714091Z"
    }
   },
   "cell_type": "code",
   "source": "",
   "id": "1d56a56ca409b9b1",
   "outputs": [],
   "execution_count": null
  },
  {
   "metadata": {},
   "cell_type": "markdown",
   "source": "# Tests with context compression",
   "id": "5d7dad3f98af0fbf"
  },
  {
   "cell_type": "code",
   "id": "1518ce68-94de-49ef-9c7f-249f5e38bd6a",
   "metadata": {
    "ExecuteTime": {
     "end_time": "2024-08-28T09:53:26.780401Z",
     "start_time": "2024-08-28T09:53:26.773852Z"
    }
   },
   "source": "backend.use_context_compression = True",
   "outputs": [],
   "execution_count": 12
  },
  {
   "cell_type": "code",
   "id": "1052d850-4dcb-45b3-a9e6-a8e0760574e0",
   "metadata": {
    "ExecuteTime": {
     "end_time": "2024-08-28T09:54:14.359460Z",
     "start_time": "2024-08-28T09:53:26.886947Z"
    }
   },
   "source": "query_doc(question_list, fiche_D1A)\n",
   "outputs": [
    {
     "name": "stderr",
     "output_type": "stream",
     "text": [
      "\u001B[32m2024-08-28 11:53:27.410\u001B[0m | \u001B[34m\u001B[1mDEBUG   \u001B[0m | \u001B[36mwattelse.chatbot.backend.rag_backend\u001B[0m:\u001B[36mquery_rag\u001B[0m:\u001B[36m371\u001B[0m - \u001B[34m\u001B[1mCalling RAG chain for question : \"Quel est le nom du client ?\"...\u001B[0m\n",
      "\u001B[32m2024-08-28 11:53:27.454\u001B[0m | \u001B[34m\u001B[1mDEBUG   \u001B[0m | \u001B[36mwattelse.api.embedding.client_embedding_api\u001B[0m:\u001B[36membed_query\u001B[0m:\u001B[36m38\u001B[0m - \u001B[34m\u001B[1mCalling EmbeddingAPI using model: OrdalieTech/Solon-embeddings-large-0.1\u001B[0m\n",
      "\u001B[32m2024-08-28 11:53:27.460\u001B[0m | \u001B[34m\u001B[1mDEBUG   \u001B[0m | \u001B[36mwattelse.api.embedding.client_embedding_api\u001B[0m:\u001B[36membed_query\u001B[0m:\u001B[36m39\u001B[0m - \u001B[34m\u001B[1mComputing embeddings...\u001B[0m\n",
      "\u001B[32m2024-08-28 11:53:27.628\u001B[0m | \u001B[34m\u001B[1mDEBUG   \u001B[0m | \u001B[36mwattelse.api.embedding.client_embedding_api\u001B[0m:\u001B[36membed_query\u001B[0m:\u001B[36m43\u001B[0m - \u001B[34m\u001B[1mComputing embeddings done\u001B[0m\n",
      "\u001B[32m2024-08-28 11:53:30.460\u001B[0m | \u001B[34m\u001B[1mDEBUG   \u001B[0m | \u001B[36mwattelse.chatbot.backend.rag_backend\u001B[0m:\u001B[36mquery_rag\u001B[0m:\u001B[36m371\u001B[0m - \u001B[34m\u001B[1mCalling RAG chain for question : \"Quelle est l'adresse du site de l'installation à raccorder (extraites seulement les valeurs d'adresse) ?\"...\u001B[0m\n",
      "\u001B[32m2024-08-28 11:53:30.521\u001B[0m | \u001B[34m\u001B[1mDEBUG   \u001B[0m | \u001B[36mwattelse.api.embedding.client_embedding_api\u001B[0m:\u001B[36membed_query\u001B[0m:\u001B[36m38\u001B[0m - \u001B[34m\u001B[1mCalling EmbeddingAPI using model: OrdalieTech/Solon-embeddings-large-0.1\u001B[0m\n",
      "\u001B[32m2024-08-28 11:53:30.533\u001B[0m | \u001B[34m\u001B[1mDEBUG   \u001B[0m | \u001B[36mwattelse.api.embedding.client_embedding_api\u001B[0m:\u001B[36membed_query\u001B[0m:\u001B[36m39\u001B[0m - \u001B[34m\u001B[1mComputing embeddings...\u001B[0m\n",
      "\u001B[32m2024-08-28 11:53:30.650\u001B[0m | \u001B[34m\u001B[1mDEBUG   \u001B[0m | \u001B[36mwattelse.api.embedding.client_embedding_api\u001B[0m:\u001B[36membed_query\u001B[0m:\u001B[36m43\u001B[0m - \u001B[34m\u001B[1mComputing embeddings done\u001B[0m\n"
     ]
    },
    {
     "name": "stdout",
     "output_type": "stream",
     "text": [
      "\n",
      "****************************************************************************************************\n",
      "ANSWER\n",
      "\n",
      "Le nom du client est European Energy France.\n",
      "****************************************************************************************************\n",
      "Document 1:\n",
      "\n",
      "INFORMATIONS SUR LE DEMANDEUR DU RACCORDEMENT Nom de la société : EUROPEAN ENERGY FRANCE n° SIREN : 913794707 Nom et fonction de l’interlocuteur : Emmanuel Fourmaux - Responsable Développement Régional\n"
     ]
    },
    {
     "name": "stderr",
     "output_type": "stream",
     "text": [
      "\u001B[32m2024-08-28 11:53:47.223\u001B[0m | \u001B[34m\u001B[1mDEBUG   \u001B[0m | \u001B[36mwattelse.chatbot.backend.rag_backend\u001B[0m:\u001B[36mquery_rag\u001B[0m:\u001B[36m371\u001B[0m - \u001B[34m\u001B[1mCalling RAG chain for question : \"Quelle est la demande en puissance du client ? Quelle est la puissance maximale de soutirage demandée ?\"...\u001B[0m\n",
      "\u001B[32m2024-08-28 11:53:47.257\u001B[0m | \u001B[34m\u001B[1mDEBUG   \u001B[0m | \u001B[36mwattelse.api.embedding.client_embedding_api\u001B[0m:\u001B[36membed_query\u001B[0m:\u001B[36m38\u001B[0m - \u001B[34m\u001B[1mCalling EmbeddingAPI using model: OrdalieTech/Solon-embeddings-large-0.1\u001B[0m\n",
      "\u001B[32m2024-08-28 11:53:47.259\u001B[0m | \u001B[34m\u001B[1mDEBUG   \u001B[0m | \u001B[36mwattelse.api.embedding.client_embedding_api\u001B[0m:\u001B[36membed_query\u001B[0m:\u001B[36m39\u001B[0m - \u001B[34m\u001B[1mComputing embeddings...\u001B[0m\n",
      "\u001B[32m2024-08-28 11:53:47.350\u001B[0m | \u001B[34m\u001B[1mDEBUG   \u001B[0m | \u001B[36mwattelse.api.embedding.client_embedding_api\u001B[0m:\u001B[36membed_query\u001B[0m:\u001B[36m43\u001B[0m - \u001B[34m\u001B[1mComputing embeddings done\u001B[0m\n"
     ]
    },
    {
     "name": "stdout",
     "output_type": "stream",
     "text": [
      "\n",
      "****************************************************************************************************\n",
      "ANSWER\n",
      "\n",
      "60210 SAINT-THIBAULT II.\n",
      "****************************************************************************************************\n",
      "Document 1:\n",
      "\n",
      ">>>\n",
      "Adresse Numéro / rue Code postal/ ville\n",
      ">>>\n",
      "\n",
      "These are the relevant parts of the context that answer the question \"Quelle est l'adresse du site de l'installation à raccorder (extraites seulement les valeurs d'adresse) ?\"\n",
      "----------------------------------------------------------------------------------------------------\n",
      "Document 2:\n",
      "\n",
      ">> Informations sur le Producteur ». L’acte de désignation est à transmettre avec la demande de raccordement.\n",
      "----------------------------------------------------------------------------------------------------\n",
      "Document 3:\n",
      "\n",
      "Extracted relevant parts:\n",
      "\n",
      "Adresse Numéro / rue Code postal/ ville 60210 SAINT-THIBAULT II.\n",
      "----------------------------------------------------------------------------------------------------\n",
      "Document 4:\n",
      "\n",
      "Extracted relevant parts:\n",
      "\n",
      "I- INFORMATIONS SUR L’INSTALLATION MODIFIEE\n",
      "Nom du site de l’installation – [le cas échéant,] °SIRET\n",
      "----------------------------------------------------------------------------------------------------\n",
      "Document 5:\n",
      "\n",
      ">>>\n",
      "extrait au 1/25 000 Position du ou des éléments modifiés/ajoutés Joindre un extrait cadastral des parcelles concernées, indiquer la position envisagée des éléments modifiés et coordonnées GPS si possible\n",
      ">>>\n",
      "\n",
      "Extracted relevant parts:\n",
      "----------------------------------------------------------------------------------------------------\n",
      "Document 6:\n",
      "\n",
      "Adresse Numéro / rue 5 PLACE DES COUREAULEURS\n",
      "Code postal/ ville 17000 LA ROCHELLE\n",
      "Pays FRANCE\n",
      "----------------------------------------------------------------------------------------------------\n",
      "Document 7:\n",
      "\n",
      "Adresse Numéro / rue 5 PLACE DES COUREAULEURS\n",
      "Code postal/ ville 17000 LA ROCHELLE\n",
      "Pays FRANCE\n",
      "----------------------------------------------------------------------------------------------------\n",
      "Document 8:\n",
      "\n",
      "Adresse Numéro / rue Code postal/ ville Pays\n",
      "----------------------------------------------------------------------------------------------------\n",
      "Document 9:\n",
      "\n",
      "Extracted relevant parts:\n",
      "\n",
      "Fiche de collecte de données (D1) DEMANDE D’ETUDE EXPLORATOIRE pour le raccordement, l’ajout ou la modification d’une unité de production INFORMATIONS GENERALES I. TYPE DE DEMANDE Nouveau raccordement Veuillez renseigner les informations générales et l’annexe 1 Modification de l’installation raccordée Veuillez renseigner les informations générales et l’annexe 2 II.\n",
      "\n",
      "****************************************************************************************************\n",
      "ANSWER\n",
      "\n",
      "La demande en puissance du client est définie par la puissance installée de l'installation, qui est la somme des puissances actives unitaires maximales des machines électrogènes susceptibles de fonctionner simultanément disposant d'un point de raccordement unique. La puissance maximale de soutirage demandée est de 45 MW CR.\n",
      "****************************************************************************************************\n",
      "Document 1:\n",
      "\n",
      "MW CR Puissance maximale de soutirage (au niveau du point de raccordement de l’installation ou du groupement)\n",
      "----------------------------------------------------------------------------------------------------\n",
      "Document 2:\n",
      "\n",
      "* Puissance maximale de soutirage (au niveau du point de raccordement de l’installation ou du groupement) ........ MW/MVA CR\n",
      "----------------------------------------------------------------------------------------------------\n",
      "Document 3:\n",
      "\n",
      "*45 MW CR/ICC Puissance de raccordement à l’injection ou Pracc Injection*\n",
      "*45 MW CR Puissance maximale de soutirage (au niveau du point de raccordement de l’installation (ou du groupement))*\n",
      "*180 kW CR Emplacement du point de raccordement*\n",
      "----------------------------------------------------------------------------------------------------\n",
      "Document 4:\n",
      "\n",
      "Extracted relevant parts:\n",
      "\n",
      "La puissance installée d'une installation de production s'entend comme la somme des puissances actives unitaires maximales des machines électrogènes susceptibles de fonctionner simultanément disposant d’un point de raccordement unique.\n",
      "\n",
      "Puissance de raccordement à l’injection ou Pracc Injection* : * Puissance servant à dimensionner le raccordement de l’Installation ou du groupement au point de raccordement .\n",
      "----------------------------------------------------------------------------------------------------\n",
      "Document 5:\n",
      "\n",
      "Extracted relevant parts:\n",
      "\n",
      "DONNEES TECHNIQUES POUR LE RACCORDEMENT DE L’INSTALLATION DE PRODUCTION\n",
      "Valeur (unité) Catég orie Statut ferme ou révisable Complément d’informations Caractéristiques essentielles de la Demande\n",
      "Date souhaitée de mise à disposition du raccordement 10/2026\n",
      "Puissance installée de l’Installation* *La puissance installée d'une installation de production (Pinstallée) s'entend comme la somme des puissances actives unitaires maximales des machines électrogènes susceptibles de fonctionner simultanément disposant d’un même point de raccordement (article 3 de l’arrêté 2019).\n",
      "----------------------------------------------------------------------------------------------------\n",
      "Document 6:\n",
      "\n",
      "La puissance installée de l’Installation* * La puissance installée d'une installation de production s'entend comme la somme des puissances actives unitaires maximales des machines électrogènes susceptibles de fonctionner simultanément disposant d’un point de raccordement unique.\n",
      "\n",
      "This part of the context is relevant to answer the question, as it defines the concept of \"puissance installée\" (installed power) and how it is calculated.\n",
      "----------------------------------------------------------------------------------------------------\n",
      "Document 7:\n",
      "\n",
      "Extracted relevant parts:\n",
      "\n",
      "Informations sur le Producteur ». L’acte de désignation est à transmettre avec la demande de raccordement.\n",
      "\n",
      "These parts seem to be related to the question about the client's demand in power and the maximum power output demanded.\n",
      "----------------------------------------------------------------------------------------------------\n",
      "Document 8:\n",
      "\n",
      "Extracted relevant parts:\n",
      "\n",
      "I. TYPE DE DEMANDE Nouveau raccordement\n",
      "Veuillez renseigner les informations générales et l’annexe 1\n",
      "Modification de l’installation raccordée\n",
      "Veuillez renseigner les informations générales et l’annexe 2\n"
     ]
    }
   ],
   "execution_count": 13
  },
  {
   "cell_type": "code",
   "execution_count": null,
   "id": "dd910d4e-1eb2-44c7-81de-14d6dfe9e2a6",
   "metadata": {},
   "outputs": [],
   "source": []
  },
  {
   "cell_type": "code",
   "execution_count": null,
   "id": "903db973-1690-4254-bbdd-f04b91fb6d40",
   "metadata": {},
   "outputs": [],
   "source": ""
  },
  {
   "cell_type": "code",
   "execution_count": null,
   "id": "87ebc5b1-0e50-40be-93c3-1cfc3f4a38c3",
   "metadata": {},
   "outputs": [],
   "source": []
  },
  {
   "cell_type": "code",
   "execution_count": null,
   "id": "14593bc7-7fc6-4059-adc0-3b9b873f9225",
   "metadata": {},
   "outputs": [],
   "source": [
    "# https://python.langchain.com/v0.1/docs/modules/data_connection/retrievers/contextual_compression/\n",
    "# https://blog.langchain.dev/improving-document-retrieval-with-contextual-compression/"
   ]
  }
 ],
 "metadata": {
  "kernelspec": {
   "display_name": "nlp",
   "language": "python",
   "name": "nlp"
  },
  "language_info": {
   "codemirror_mode": {
    "name": "ipython",
    "version": 3
   },
   "file_extension": ".py",
   "mimetype": "text/x-python",
   "name": "python",
   "nbconvert_exporter": "python",
   "pygments_lexer": "ipython3",
   "version": "3.11.9"
  }
 },
 "nbformat": 4,
 "nbformat_minor": 5
}
