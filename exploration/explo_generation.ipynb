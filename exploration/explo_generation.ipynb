{
 "cells": [
  {
   "cell_type": "code",
   "id": "initial_id",
   "metadata": {
    "collapsed": true,
    "ExecuteTime": {
     "end_time": "2024-04-24T15:39:48.542942Z",
     "start_time": "2024-04-24T15:39:48.539330Z"
    }
   },
   "source": [
    "import json\n",
    "\n",
    "from wattelse.api.fastchat.client_fastchat_api import FastchatAPI\n",
    "from wattelse.api.rag_orchestrator.rag_client import RAGOrchestratorClient"
   ],
   "execution_count": 12,
   "outputs": []
  },
  {
   "metadata": {
    "ExecuteTime": {
     "end_time": "2024-04-24T15:35:13.000367Z",
     "start_time": "2024-04-24T15:34:32.719263Z"
    }
   },
   "cell_type": "code",
   "source": [
    "HOST = \"10.132.6.110\" # gpu_pole\n",
    "#HOST = \"10.135.73.152\" # gpu R&D\n",
    "\n",
    "api = FastchatAPI(f\"http://{HOST}:8888/v1\")"
   ],
   "id": "b8efcdefb52ef83e",
   "execution_count": 2,
   "outputs": []
  },
  {
   "metadata": {
    "ExecuteTime": {
     "end_time": "2024-04-24T15:35:13.063147Z",
     "start_time": "2024-04-24T15:35:13.002158Z"
    }
   },
   "cell_type": "code",
   "source": "api.get_api_model_name()",
   "id": "1719172a21b226bf",
   "execution_count": 3,
   "outputs": []
  },
  {
   "metadata": {
    "ExecuteTime": {
     "end_time": "2024-04-24T15:35:17.859372Z",
     "start_time": "2024-04-24T15:35:15.075097Z"
    }
   },
   "cell_type": "code",
   "source": [
    "# Basic check of LLM\n",
    "api.generate(\"Quelle est la couleur du cheval blanc d'Henri IV?\")"
   ],
   "id": "a05bb70c8c0f606",
   "execution_count": 4,
   "outputs": []
  },
  {
   "metadata": {
    "ExecuteTime": {
     "end_time": "2024-04-24T15:35:51.273900Z",
     "start_time": "2024-04-24T15:35:51.227602Z"
    }
   },
   "cell_type": "code",
   "source": [
    "# Initiliaze RAG\n",
    "rag = RAGOrchestratorClient(f\"http://{HOST}:1978\")\n"
   ],
   "id": "afa7b56e6a85133d",
   "execution_count": 5,
   "outputs": []
  },
  {
   "metadata": {
    "ExecuteTime": {
     "end_time": "2024-04-24T15:35:51.578055Z",
     "start_time": "2024-04-24T15:35:51.573557Z"
    }
   },
   "cell_type": "code",
   "source": [
    "question_list_conso = {\n",
    "    \"customer\":  \"Quel est le nom du client ?\",\n",
    "    \"adress\": \"Quelle est l'adresse du site de l'installation à raccorder (extraites seulement les valeurs d'adresse) ?\",\n",
    "    \"date\": \"Quelle est la date de mise à disposition du raccordement souhaitée ? Répondre uniquement sous la forme JJ/MM/AAAA.\",\n",
    "    \"request_pracc\": \"Quelle est la demande en puissance du client ? Quelle est la puissance maximale de soutirage demandée ?\",\n",
    "    \"request_pcc\": \"Quelle est la puissance de court circuit ? Si l'information n'est pas fournie, répondez 'Je ne sais pas'\",\n",
    "    \"request_additional_power_supply\": \"Quelles est la puissance de l’alimentation supplémentaire n°1 demandée ? Si l'information n'est pas fournie, répondez 'Je ne sais pas'\",\n",
    "    \n",
    "}\n",
    "\n",
    "question_list_prod = {\n",
    "    \"customer\":  \"Quel est le nom du client ?\",\n",
    "    \"adress\": \"Quelle est l'emplacement du point de raccordement (extraites seulement les valeurs d'adresse) ?\",\n",
    "    \"lat_lon\": \"Quelle sont la longitude et la latitude du point de raccordement ? Répondre uniquement au format json.\",\n",
    "    \"date\":  \"Quelle est la date de mise à disposition du raccordement souhaitée ? Répondre uniquement sous la forme JJ/MM/AAAA.\",\n",
    "    \"request_pracc\": \"Quelle est la demande en puissance du client ?\",\n",
    "    \"request_pinjection\": \"Quelle est la puissance de raccordement à l'injection demandée ?\",\n",
    "    \"request_psoutirage\": \"Quelle est la puissance maximale de soutirage demandée ?\",\n",
    "    \n",
    "}\n",
    "\n"
   ],
   "id": "302d24b8a9b9d85a",
   "execution_count": 6,
   "outputs": []
  },
  {
   "metadata": {
    "ExecuteTime": {
     "end_time": "2024-04-24T15:45:45.912331Z",
     "start_time": "2024-04-24T15:45:45.909805Z"
    }
   },
   "cell_type": "code",
   "source": [
    "fiche_D1 = [\"20230921 - Fiche D1 - EE France - Projet La Mottelette - Saint-Thibault (60).pdf\"]\n",
    "fiche_D1 = [\"Demande d'Etude Explo - HDF.pdf\"]"
   ],
   "id": "d6eabf964928c9f1",
   "execution_count": 21,
   "outputs": []
  },
  {
   "metadata": {
    "ExecuteTime": {
     "end_time": "2024-04-24T15:46:05.085753Z",
     "start_time": "2024-04-24T15:45:46.205988Z"
    }
   },
   "cell_type": "code",
   "source": [
    "responses = {}\n",
    "for key, question in question_list_prod.items():\n",
    "    response = rag.query_rag(\"test\", question, None, fiche_D1)\n",
    "    if \"je ne sais pas\" not in response[\"answer\"].lower():\n",
    "        responses[key] = response[\"answer\"]\n",
    "    if key == \"request_additional_power_supply\":\n",
    "        responses[key] = \"Le client ne souhaite qu'une seule alimentation\"\n",
    "        "
   ],
   "id": "5de844d1f1415f61",
   "execution_count": 22,
   "outputs": []
  },
  {
   "metadata": {
    "ExecuteTime": {
     "end_time": "2024-04-24T15:46:05.091976Z",
     "start_time": "2024-04-24T15:46:05.087535Z"
    }
   },
   "cell_type": "code",
   "source": "responses",
   "id": "206853a9b49e7d18",
   "execution_count": 23,
   "outputs": []
  },
  {
   "metadata": {},
   "cell_type": "code",
   "execution_count": null,
   "source": "",
   "id": "31959cf45777e741",
   "outputs": []
  }
 ],
 "metadata": {
  "kernelspec": {
   "display_name": "Python 3",
   "language": "python",
   "name": "python3"
  },
  "language_info": {
   "codemirror_mode": {
    "name": "ipython",
    "version": 2
   },
   "file_extension": ".py",
   "mimetype": "text/x-python",
   "name": "python",
   "nbconvert_exporter": "python",
   "pygments_lexer": "ipython2",
   "version": "2.7.6"
  }
 },
 "nbformat": 4,
 "nbformat_minor": 5
}
